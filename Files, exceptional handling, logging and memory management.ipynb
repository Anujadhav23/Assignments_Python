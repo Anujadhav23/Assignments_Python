{
 "cells": [
  {
   "cell_type": "markdown",
   "id": "bbce9dad-e9e0-4c72-a5f0-e2b02bc398b0",
   "metadata": {},
   "source": [
    "# Files, exceptional handling, logging and memory management Assignment"
   ]
  },
  {
   "cell_type": "markdown",
   "id": "32e289be-f26f-49b8-93dc-2e77696d2dd9",
   "metadata": {},
   "source": [
    "# THEORY QUESTIONS"
   ]
  },
  {
   "cell_type": "markdown",
   "id": "469587dd-2686-440f-849a-cbe45ab5ad90",
   "metadata": {},
   "source": [
    "# Q.1) What is the difference between interpreted and compiled languages?\n",
    "Answer:\n",
    "\n",
    "- Interpreted Languages: Code is executed line-by-line by an interpreter (e.g., Python, JavaScript).\n",
    "\n",
    "- Compiled Languages: Entire code is converted into machine code before execution (e.g., C, C++).\n",
    "\n",
    "- Key Difference: Interpreted languages are generally slower but easier to debug; compiled languages are faster but require a separate compilation step."
   ]
  },
  {
   "cell_type": "markdown",
   "id": "62547a59-afc9-472f-b22e-1f8ed1bb1e86",
   "metadata": {},
   "source": [
    "# Q.2) What is exception handling in Python?\n",
    "Answer:\n",
    "\n",
    "Exception handling allows the program to catch and manage runtime errors using try, except, finally, and else blocks. It prevents the program from crashing.\n",
    "\n"
   ]
  },
  {
   "cell_type": "markdown",
   "id": "e6c0e08e-f54b-422c-86ed-058a4bbc608e",
   "metadata": {},
   "source": [
    "# Q.3) What is the purpose of the finally block in exception handling?\n",
    "Answer:\n",
    "\n",
    "The finally block is used to execute code regardless of whether an exception occurred or not. It's often used for cleanup tasks like closing files or releasing resources."
   ]
  },
  {
   "cell_type": "markdown",
   "id": "5ac292fc-5a78-4cc7-95e7-5d6d3c8b8d35",
   "metadata": {},
   "source": [
    "# Q.4) What is logging in Python?\n",
    "Answer:\n",
    "\n",
    "Logging is the process of recording information (like errors, warnings, or custom messages) during program execution using the logging module. It helps in debugging and monitoring."
   ]
  },
  {
   "cell_type": "markdown",
   "id": "ace3b2af-721f-4b8e-809d-bcfb743a0b24",
   "metadata": {},
   "source": [
    "# Q.5) What is the significance of the __del__ method in Python?\n",
    "Answer:\n",
    "\n",
    "The __del__ method is a destructor method that is called when an object is about to be destroyed. It's used to free resources like closing files or network connections."
   ]
  },
  {
   "cell_type": "markdown",
   "id": "d7dda30b-ffaf-49f4-8b96-669346c57cda",
   "metadata": {},
   "source": [
    "# Q.6) What is the difference between import and from ... import in Python?\n",
    "Answer:\n",
    "\n",
    "- import module: Imports the entire module.\n",
    "\n",
    "- from module import function: Imports only specific items from the module."
   ]
  },
  {
   "cell_type": "code",
   "execution_count": 3,
   "id": "1f473976-3038-4538-aa4c-0d4a37dba0bb",
   "metadata": {},
   "outputs": [
    {
     "data": {
      "text/plain": [
       "6.782329983125268"
      ]
     },
     "execution_count": 3,
     "metadata": {},
     "output_type": "execute_result"
    }
   ],
   "source": [
    "#Example:\n",
    "import math      # Use math.sqrt()\n",
    "from math import sqrt  # Use sqrt() directly\n",
    "sqrt(46)\n"
   ]
  },
  {
   "cell_type": "markdown",
   "id": "c139930f-15dd-4da8-a349-3ad41808075b",
   "metadata": {},
   "source": [
    "# Q.7)  How can you handle multiple exceptions in Python?\n",
    "Answer:\n",
    "\n",
    "You can handle multiple exceptions using multiple except blocks or a tuple of exceptions."
   ]
  },
  {
   "cell_type": "code",
   "execution_count": 74,
   "id": "337f23bf-81de-48da-893a-d6089b4e0c7d",
   "metadata": {},
   "outputs": [],
   "source": [
    "#Example:\n",
    "try:\n",
    "    pass  # or some real code like x = int(\"abc\")\n",
    "except (ValueError, TypeError):\n",
    "    print(\"Value or Type error\")\n"
   ]
  },
  {
   "cell_type": "markdown",
   "id": "c63e8dbf-21c8-49ce-9be7-c8f0468ab734",
   "metadata": {},
   "source": [
    "# Q.8) What is the purpose of the with statement when handling files in Python?\n",
    "Answer:\n",
    "\n",
    "The with statement automatically manages file opening and closing."
   ]
  },
  {
   "cell_type": "code",
   "execution_count": 79,
   "id": "ca70c538-ec52-4269-a900-2d759223b352",
   "metadata": {},
   "outputs": [
    {
     "name": "stdout",
     "output_type": "stream",
     "text": [
      "Hello, this is a test file.\n"
     ]
    }
   ],
   "source": [
    "#Example:\n",
    "# Create and write some content\n",
    "with open(\"file.txt\", \"w\") as f:\n",
    "    f.write(\"Hello, this is a test file.\")\n",
    "\n",
    "# Now read it\n",
    "with open(\"file.txt\", \"r\") as f:\n",
    "    data = f.read()\n",
    "    print(data)\n"
   ]
  },
  {
   "cell_type": "markdown",
   "id": "f087d3db-6cff-441c-8a7f-d7ac34b192e9",
   "metadata": {},
   "source": [
    "# Q.9) What is the difference between multithreading and multiprocessing?\n",
    "Answer:\n",
    "\n",
    "- Multithreading: Multiple threads run within the same process. Good for I/O-bound tasks.\n",
    "\n",
    "- Multiprocessing: Multiple processes with separate memory. Good for CPU-bound tasks."
   ]
  },
  {
   "cell_type": "markdown",
   "id": "fc09ae7f-b760-4100-b38d-585d9368045e",
   "metadata": {},
   "source": [
    "# Q.10) What are the advantages of using logging in a program?\n",
    "Answer:\n",
    "\n",
    "- Tracks runtime behavior\n",
    "\n",
    "- Helps in debugging and monitoring\n",
    "\n",
    "- Stores logs to files\n",
    "\n",
    "- Provides levels like INFO, DEBUG, ERROR, etc.\n"
   ]
  },
  {
   "cell_type": "markdown",
   "id": "1d751c5b-59d9-4112-bd8e-4af82d4a42b4",
   "metadata": {},
   "source": [
    "# Q.11)  What is memory management in Python?\n",
    "Answer:\n",
    "\n",
    "Python uses automatic memory management through reference counting and a garbage collector that reclaims unused memory."
   ]
  },
  {
   "cell_type": "markdown",
   "id": "0ba79f50-ebe8-4efb-8c7f-60022a076242",
   "metadata": {},
   "source": [
    "# Q.12) What are the basic steps involved in exception handling in Python?\n",
    "Answer:\n",
    "\n",
    "1) try: Block of code to monitor for errors.\n",
    "\n",
    "2) except: Handle the error.\n",
    "\n",
    "3) else (optional): Executes if no error occurs.\n",
    "\n",
    "4) finally: Executes regardless of error."
   ]
  },
  {
   "cell_type": "markdown",
   "id": "90fc5a8e-5de8-4ef1-9135-9949e59de645",
   "metadata": {},
   "source": [
    "# Q.13)  Why is memory management important in Python?\n",
    "Answer:\n",
    "\n",
    "Efficient memory management ensures better performance, avoids memory leaks, and prevents the program from crashing due to memory overflow."
   ]
  },
  {
   "cell_type": "markdown",
   "id": "d5e159bd-fe95-41a3-8221-5e3926d17116",
   "metadata": {},
   "source": [
    "# Q.14) What is the role of try and except in exception handling?\n",
    "Answer:\n",
    "\n",
    "- try: Block where you write code that might throw an exception.\n",
    "\n",
    "- except: Block to handle the exception if one occurs."
   ]
  },
  {
   "cell_type": "markdown",
   "id": "0b330979-1ef0-414a-864a-b3ee8b63e9d1",
   "metadata": {},
   "source": [
    "# Q.15) F How does Python's garbage collection system work?\n",
    "Answer:\n",
    "\n",
    "Python uses reference counting and a cyclic garbage collector to identify and clean up unused objects automatically."
   ]
  },
  {
   "cell_type": "markdown",
   "id": "216ffe92-65c8-45a7-b604-d93eedb04b22",
   "metadata": {},
   "source": [
    "# Q.16) What is the purpose of the else block in exception handling?\n",
    "Answer:\n",
    "\n",
    "The else block runs only if no exception occurs in the try block. It is useful for code that should run only if the try block succeeds.\n",
    "\n"
   ]
  },
  {
   "cell_type": "markdown",
   "id": "318efc99-ac0c-4d23-afd1-3d3a88ef21c1",
   "metadata": {},
   "source": [
    "# Q.17) What are the common logging levels in Python?\n",
    "Answer:\n",
    "\n",
    "- DEBUG: Detailed info, for diagnosing problems\n",
    "\n",
    "- INFO: Confirmation that things are working\n",
    "\n",
    "- WARNING: Something unexpected happened\n",
    "\n",
    "- ERROR: A more serious problem\n",
    "\n",
    "- CRITICAL: Very serious error"
   ]
  },
  {
   "cell_type": "markdown",
   "id": "804b4ef8-51e9-4bfa-8938-bd076de3a54b",
   "metadata": {},
   "source": [
    "# Q.18) What is the difference between os.fork() and multiprocessing in Python?\n",
    "Answer:\n",
    "\n",
    "- os.fork() (Unix only): Creates a child process by duplicating the parent.\n",
    "\n",
    "- multiprocessing: Cross-platform, provides higher-level API to create and manage processes.\n",
    "\n"
   ]
  },
  {
   "cell_type": "markdown",
   "id": "c8b9decf-590e-4bca-85b6-d33654faf703",
   "metadata": {},
   "source": [
    "# Q.19) What is the importance of closing a file in Python?\n",
    "Answer:\n",
    "\n",
    "Closing a file:\n",
    "\n",
    "- Frees up system resources\n",
    "\n",
    "- Ensures data is saved\n",
    "\n",
    "-Prevents file corruption\n",
    "with handles this automatically."
   ]
  },
  {
   "cell_type": "markdown",
   "id": "5d765006-5566-4b7e-88ea-8bd5f0577c4e",
   "metadata": {},
   "source": [
    "# Q.20)  What is the difference between file.read() and file.readline() in Python?\n",
    "Answer:\n",
    "\n",
    "- read(): Reads the entire file content\n",
    "\n",
    "- readline(): Reads a single line from the file"
   ]
  },
  {
   "cell_type": "markdown",
   "id": "cb7f5505-d300-4989-a1cb-89d50ae17e50",
   "metadata": {},
   "source": [
    "# Q.21) What is the logging module in Python used for?\n",
    "Answer:\n",
    "\n",
    "The logging module is used to record messages to a log file or console, helping developers debug, monitor, and maintain applications."
   ]
  },
  {
   "cell_type": "markdown",
   "id": "6f4008ed-b613-4758-ae31-32d1b227d1c7",
   "metadata": {},
   "source": [
    "# Q.22) What is the os module in Python used for in file handling?\n",
    "Answer:\n",
    "\n",
    "The os module provides functions for interacting with the operating system like creating, renaming, deleting files or directories."
   ]
  },
  {
   "cell_type": "markdown",
   "id": "047511eb-067d-4426-a7e8-6bb72180a8a3",
   "metadata": {},
   "source": [
    "# Q.23) What are the challenges associated with memory management in Python?\n",
    "Answer:\n",
    "\n",
    "- Detecting and collecting circular references\n",
    "\n",
    "- Managing large data structures\n",
    "\n",
    "- Avoiding memory leaks in long-running applications"
   ]
  },
  {
   "cell_type": "markdown",
   "id": "5d6bd363-1bb2-4b22-8563-2216a806e510",
   "metadata": {},
   "source": [
    "# Q.24) How do you raise an exception manually in Python?\n",
    "Answer:\n",
    "\n",
    "Use the raise keyword:"
   ]
  },
  {
   "cell_type": "code",
   "execution_count": null,
   "id": "c6ebef87-e154-4c51-9201-46f1f5838359",
   "metadata": {},
   "outputs": [],
   "source": [
    "#Example:( This shows a custom error ,by stoping the program )\n",
    "x = -10\n",
    "if x < 0:\n",
    "    raise ValueError(\"Negative value is not allowed\")\n",
    "\n"
   ]
  },
  {
   "cell_type": "markdown",
   "id": "7ab45108-2074-4396-87e0-f9fdc3fa5063",
   "metadata": {},
   "source": [
    "# Q.25) Why is it important to use multithreading in certain applications?\n",
    "Answer: \n",
    "\n",
    "Multithreading is important when:\n",
    "\n",
    "- Performing I/O-bound tasks (e.g., file/network)\n",
    "\n",
    "- Reducing response time\n",
    "\n",
    "- Sharing resources like memory between threads\n"
   ]
  },
  {
   "cell_type": "markdown",
   "id": "7ec90f20-3fac-4bf1-b54d-194dc12cae6a",
   "metadata": {},
   "source": [
    "# PRACTICAL QUESTIONS "
   ]
  },
  {
   "cell_type": "markdown",
   "id": "25806afc-fe95-42b8-b7cc-4f2aa5b7545a",
   "metadata": {},
   "source": [
    "# Q.1)How can you open a file for writing in Python and write a string to it?"
   ]
  },
  {
   "cell_type": "code",
   "execution_count": 60,
   "id": "3c6d93a2-139c-4b3d-817e-bf0f18ce947d",
   "metadata": {},
   "outputs": [],
   "source": [
    "with open('file.txt', 'w') as file:\n",
    "    file.write(\"Hello, World!\")\n"
   ]
  },
  {
   "cell_type": "markdown",
   "id": "aafcc4f9-e215-4156-9689-74c841f79b76",
   "metadata": {},
   "source": [
    "# Q.2) Write a Python program to read the contents of a file and print each line."
   ]
  },
  {
   "cell_type": "code",
   "execution_count": 63,
   "id": "a34df7af-fd08-45ab-ab7b-916cbdf874a2",
   "metadata": {},
   "outputs": [
    {
     "name": "stdout",
     "output_type": "stream",
     "text": [
      "Hello, World!\n"
     ]
    }
   ],
   "source": [
    "with open('file.txt', 'r') as file:\n",
    "    for line in file:\n",
    "        print(line.strip())\n"
   ]
  },
  {
   "cell_type": "markdown",
   "id": "043bfb16-1437-474d-9820-f9c09450bbb0",
   "metadata": {},
   "source": [
    "# Q.3)How would you handle a case where the file doesn't exist while trying to open it for reading?"
   ]
  },
  {
   "cell_type": "code",
   "execution_count": 66,
   "id": "0f1597f7-5ea0-4121-8419-b926c10f8955",
   "metadata": {},
   "outputs": [],
   "source": [
    "try:\n",
    "    with open('file.txt', 'r') as file:\n",
    "        content = file.read()\n",
    "except FileNotFoundError:\n",
    "    print(\"The file does not exist.\")\n"
   ]
  },
  {
   "cell_type": "markdown",
   "id": "4422290a-5793-4b2c-a83a-30dd41b35f14",
   "metadata": {},
   "source": [
    "# Q.4)Write a Python script that reads from one file and writes its content to another file."
   ]
  },
  {
   "cell_type": "code",
   "execution_count": 73,
   "id": "41dbe5fc-c981-4d95-9752-a8b4b92351a3",
   "metadata": {},
   "outputs": [],
   "source": [
    "with open('source.txt', 'r') as src, open('destination.txt', 'w') as dest:\n",
    "    for line in src:\n",
    "        dest.write(line)\n"
   ]
  },
  {
   "cell_type": "markdown",
   "id": "a50114d7-ae68-4cab-8f25-2820ed9f9f48",
   "metadata": {},
   "source": [
    "# Q.5)How would you catch and handle division by zero error in Python?"
   ]
  },
  {
   "cell_type": "code",
   "execution_count": 75,
   "id": "9d694fe6-cc6d-49f1-98c3-e23a953630f6",
   "metadata": {},
   "outputs": [
    {
     "name": "stdout",
     "output_type": "stream",
     "text": [
      "Cannot divide by zero.\n"
     ]
    }
   ],
   "source": [
    "try:\n",
    "    result = 10 / 0\n",
    "except ZeroDivisionError:\n",
    "    print(\"Cannot divide by zero.\")\n"
   ]
  },
  {
   "cell_type": "markdown",
   "id": "11fb5030-3268-4b69-a499-84a95f800d38",
   "metadata": {},
   "source": [
    "# Q.6)Write a Python program that logs an error message to a log file when a division by zero exception occurs."
   ]
  },
  {
   "cell_type": "code",
   "execution_count": 78,
   "id": "67cb0154-0a0a-40fe-b1f6-e28e4f09fa61",
   "metadata": {},
   "outputs": [],
   "source": [
    "import logging\n",
    "\n",
    "logging.basicConfig(filename='app.log', level=logging.ERROR)\n",
    "\n",
    "try:\n",
    "    result = 10 / 0\n",
    "except ZeroDivisionError as e:\n",
    "    logging.error(f\"Error occurred: {e}\")\n"
   ]
  },
  {
   "cell_type": "markdown",
   "id": "04c204e2-5f15-40c4-8819-a784bc63a9e8",
   "metadata": {},
   "source": [
    "# Q.7)How do you log information at different levels (INFO, ERROR, WARNING) in Python using the logging module?"
   ]
  },
  {
   "cell_type": "code",
   "execution_count": 81,
   "id": "1bdec419-4da9-4e95-98b4-b73b30ffe684",
   "metadata": {},
   "outputs": [],
   "source": [
    "import logging\n",
    "\n",
    "logging.basicConfig(level=logging.DEBUG)\n",
    "\n",
    "logging.debug(\"This is a debug message.\")\n",
    "logging.info(\"This is an info message.\")\n",
    "logging.warning(\"This is a warning message.\")\n",
    "logging.error(\"This is an error message.\")\n",
    "logging.critical(\"This is a critical message.\")\n"
   ]
  },
  {
   "cell_type": "markdown",
   "id": "b3198117-0f9a-461e-8ec8-44de01a3a3fc",
   "metadata": {},
   "source": [
    "# Q.8)Write a program to handle a file opening error using exception handling."
   ]
  },
  {
   "cell_type": "code",
   "execution_count": 84,
   "id": "0ebd6582-b5ac-4154-be31-4199205d5b5a",
   "metadata": {},
   "outputs": [],
   "source": [
    "try:\n",
    "    with open('file.txt', 'r') as file:\n",
    "        content = file.read()\n",
    "except IOError:\n",
    "    print(\"An error occurred while opening the file.\")\n"
   ]
  },
  {
   "cell_type": "markdown",
   "id": "67a64249-51a5-4960-8560-536ccbadb4f2",
   "metadata": {},
   "source": [
    "# Q.9)How can you read a file line by line and store its content in a list in Python?"
   ]
  },
  {
   "cell_type": "code",
   "execution_count": 87,
   "id": "d14a90eb-1909-4764-853e-e992278b2f1f",
   "metadata": {},
   "outputs": [],
   "source": [
    "with open('file.txt', 'r') as file:\n",
    "    lines = file.readlines()\n"
   ]
  },
  {
   "cell_type": "markdown",
   "id": "90893eeb-f8cf-4c98-9b3b-1f3c82e2f057",
   "metadata": {},
   "source": [
    "# Q.10)How can you append data to an existing file in Python?"
   ]
  },
  {
   "cell_type": "code",
   "execution_count": 90,
   "id": "71b173d2-4f28-4a14-96ca-335f87420ef4",
   "metadata": {},
   "outputs": [],
   "source": [
    "with open('file.txt', 'a') as file:\n",
    "    file.write(\"Appended text.\\n\")\n"
   ]
  },
  {
   "cell_type": "markdown",
   "id": "075055eb-4eab-46a9-9a0a-8943a83be191",
   "metadata": {},
   "source": [
    "# Q.11)Write a Python program that uses a try-except block to handle an error when attempting to access a dictionary key that doesn't exist."
   ]
  },
  {
   "cell_type": "code",
   "execution_count": 93,
   "id": "819a3f58-022b-482c-bca6-f4071e30e3e3",
   "metadata": {},
   "outputs": [
    {
     "name": "stdout",
     "output_type": "stream",
     "text": [
      "Key not found in the dictionary.\n"
     ]
    }
   ],
   "source": [
    "my_dict = {'name': 'Alice'}\n",
    "\n",
    "try:\n",
    "    value = my_dict['age']\n",
    "except KeyError:\n",
    "    print(\"Key not found in the dictionary.\")\n"
   ]
  },
  {
   "cell_type": "markdown",
   "id": "2f1914b5-2eaf-4bee-8735-0e1a5dd8f638",
   "metadata": {},
   "source": [
    "# Q.12)Write a program that demonstrates using multiple except blocks to handle different types of exceptions."
   ]
  },
  {
   "cell_type": "code",
   "execution_count": 100,
   "id": "c81a1680-71fb-4d26-b839-fb3ad257203a",
   "metadata": {},
   "outputs": [
    {
     "name": "stdin",
     "output_type": "stream",
     "text": [
      "Enter a number:  0\n"
     ]
    },
    {
     "name": "stdout",
     "output_type": "stream",
     "text": [
      "Cannot divide by zero.\n"
     ]
    }
   ],
   "source": [
    "try:\n",
    "    x = int(input(\"Enter a number: \"))\n",
    "    result = 10 / x\n",
    "except ValueError:\n",
    "    print(\"Invalid input. Please enter a number.\")\n",
    "except ZeroDivisionError:\n",
    "    print(\"Cannot divide by zero.\")\n",
    "except Exception as e:\n",
    "    print(f\"An unexpected error occurred: {e}\")\n"
   ]
  },
  {
   "cell_type": "markdown",
   "id": "128c7bfe-55df-4583-aad8-70bd7d251fdc",
   "metadata": {},
   "source": [
    "# Q.13)How would you check if a file exists before attempting to read it in Python?"
   ]
  },
  {
   "cell_type": "code",
   "execution_count": 103,
   "id": "a4f9e412-04c6-49b0-b463-25e38ca8ad6c",
   "metadata": {},
   "outputs": [],
   "source": [
    "import os\n",
    "\n",
    "if os.path.isfile('file.txt'):\n",
    "    with open('file.txt', 'r') as file:\n",
    "        content = file.read()\n",
    "else:\n",
    "    print(\"The file does not exist.\")\n"
   ]
  },
  {
   "cell_type": "markdown",
   "id": "d0daf643-279d-4028-b635-36640e3eb4d2",
   "metadata": {},
   "source": [
    "# Q.14)Write a program that uses the logging module to log both informational and error messages."
   ]
  },
  {
   "cell_type": "code",
   "execution_count": 106,
   "id": "fc123296-f121-4c4b-8be3-8b83591c9f0e",
   "metadata": {},
   "outputs": [],
   "source": [
    "import logging\n",
    "\n",
    "logging.basicConfig(filename='app.log', level=logging.DEBUG)\n",
    "\n",
    "logging.info(\"This is an informational message.\")\n",
    "logging.error(\"This is an error message.\")\n"
   ]
  },
  {
   "cell_type": "markdown",
   "id": "2d2f757a-1afe-4359-b403-99213566bcf9",
   "metadata": {},
   "source": [
    "# Q.15)Write a Python program that prints the content of a file and handles the case when the file is empty."
   ]
  },
  {
   "cell_type": "code",
   "execution_count": 109,
   "id": "a4f9225a-b608-46e8-9118-d0b63a66160f",
   "metadata": {},
   "outputs": [
    {
     "name": "stdout",
     "output_type": "stream",
     "text": [
      "Hello, World!Appended text.\n",
      "\n"
     ]
    }
   ],
   "source": [
    "try:\n",
    "    with open('file.txt', 'r') as file:\n",
    "        content = file.read()\n",
    "        if content:\n",
    "            print(content)\n",
    "        else:\n",
    "            print(\"The file is empty.\")\n",
    "except FileNotFoundError:\n",
    "    print(\"The file does not exist.\")\n"
   ]
  },
  {
   "cell_type": "markdown",
   "id": "9003b046-7b3d-422c-9c4a-04080d171661",
   "metadata": {},
   "source": [
    "# Q.16)Demonstrate how to use memory profiling to check the memory usage of a small program."
   ]
  },
  {
   "cell_type": "code",
   "execution_count": 171,
   "id": "1b479cb3-0393-498f-b06c-58e9801f73eb",
   "metadata": {},
   "outputs": [
    {
     "name": "stdout",
     "output_type": "stream",
     "text": [
      "\n"
     ]
    },
    {
     "data": {
      "text/plain": [
       "Filename: C:\\Users\\admin\\DATA_ANALYTICS_COURSE\\my_memory_func.py\n",
       "\n",
       "Line #    Mem usage    Increment  Occurrences   Line Contents\n",
       "=============================================================\n",
       "     2    133.7 MiB    133.7 MiB           1   def my_function():\n",
       "     3    133.7 MiB      0.0 MiB       10001       a = [i for i in range(10000)]\n",
       "     4    133.7 MiB      0.0 MiB           1       return a"
      ]
     },
     "metadata": {},
     "output_type": "display_data"
    }
   ],
   "source": [
    "from my_memory_func import my_function\n",
    "%mprun -f my_function my_function()\n",
    "\n"
   ]
  },
  {
   "cell_type": "markdown",
   "id": "29430cd4-4a73-44a2-80ca-9be8250d8b54",
   "metadata": {},
   "source": [
    "# Q.17)Write a Python program to create and write a list of numbers to a file, one number per line."
   ]
  },
  {
   "cell_type": "code",
   "execution_count": 116,
   "id": "6f406c8b-292b-450d-9b1f-7f98132cc5d6",
   "metadata": {},
   "outputs": [],
   "source": [
    "numbers = [1, 2, 3, 4, 5]\n",
    "\n",
    "with open('numbers.txt', 'w') as file:\n",
    "    for number in numbers:\n",
    "        file.write(f\"{number}\\n\")\n"
   ]
  },
  {
   "cell_type": "markdown",
   "id": "f6200ea7-a814-4e06-b6d5-215d70a29063",
   "metadata": {},
   "source": [
    "# Q.18)How would you implement a basic logging setup that logs to a file with rotation after 1MB?"
   ]
  },
  {
   "cell_type": "code",
   "execution_count": 175,
   "id": "8d1b48c4-4786-4342-b7f2-8deb5bf0b346",
   "metadata": {},
   "outputs": [],
   "source": [
    "import logging\n",
    "from logging.handlers import RotatingFileHandler\n",
    "\n",
    "# Create a rotating file handler\n",
    "handler = RotatingFileHandler('my_log.log', maxBytes=1_000_000, backupCount=3)\n",
    "\n",
    "# Set the logging level and formatter\n",
    "formatter = logging.Formatter('%(asctime)s - %(levelname)s - %(message)s')\n",
    "handler.setFormatter(formatter)\n",
    "handler.setLevel(logging.INFO)\n",
    "\n",
    "# Get the logger and attach the handler\n",
    "logger = logging.getLogger('my_logger')\n",
    "logger.setLevel(logging.INFO)\n",
    "logger.addHandler(handler)\n",
    "\n",
    "# Example log messages\n",
    "logger.info(\"This is an info message.\")\n",
    "logger.error(\"This is an error message.\")\n"
   ]
  },
  {
   "cell_type": "markdown",
   "id": "8a6602cf-1489-4ce7-8bd2-4f7be2233b91",
   "metadata": {},
   "source": [
    "# Q.19)Write a program that handles both IndexError and KeyError using a try-except block."
   ]
  },
  {
   "cell_type": "code",
   "execution_count": 122,
   "id": "ec98efad-1dab-49b5-87a9-e710f1efcd25",
   "metadata": {},
   "outputs": [
    {
     "name": "stdout",
     "output_type": "stream",
     "text": [
      "Index out of range in the list.\n"
     ]
    }
   ],
   "source": [
    "my_list = [1, 2, 3]\n",
    "my_dict = {'a': 10, 'b': 20}\n",
    "\n",
    "try:\n",
    "    print(my_list[5])  # This will raise IndexError\n",
    "    print(my_dict['z'])  # This will raise KeyError\n",
    "except IndexError:\n",
    "    print(\"Index out of range in the list.\")\n",
    "except KeyError:\n",
    "    print(\"Key not found in the dictionary.\")\n"
   ]
  },
  {
   "cell_type": "markdown",
   "id": "821634e7-443c-41c7-b90d-e467fc8944f9",
   "metadata": {},
   "source": [
    "# Q.20)How would you open a file and read its contents using a context manager in Python?"
   ]
  },
  {
   "cell_type": "code",
   "execution_count": 125,
   "id": "4f7cafa9-aa85-4718-bdc0-4d79ed222532",
   "metadata": {},
   "outputs": [
    {
     "name": "stdout",
     "output_type": "stream",
     "text": [
      "Hello, World!Appended text.\n",
      "\n"
     ]
    }
   ],
   "source": [
    "with open('file.txt', 'r') as file:\n",
    "    content = file.read()\n",
    "    print(content)\n"
   ]
  },
  {
   "cell_type": "markdown",
   "id": "764f02ff-4884-4553-b7a2-da8916efa8d6",
   "metadata": {},
   "source": [
    "# Q.21)Write a Python program that reads a file and prints the number of occurrences of a specific word."
   ]
  },
  {
   "cell_type": "code",
   "execution_count": 128,
   "id": "2473040d-67d1-4fbe-b865-5fc6760a1157",
   "metadata": {},
   "outputs": [
    {
     "name": "stdout",
     "output_type": "stream",
     "text": [
      "The word 'python' occurs 0 times.\n"
     ]
    }
   ],
   "source": [
    "word_to_count = 'python'\n",
    "\n",
    "with open('file.txt', 'r') as file:\n",
    "    content = file.read()\n",
    "    count = content.lower().split().count(word_to_count.lower())\n",
    "\n",
    "print(f\"The word '{word_to_count}' occurs {count} times.\")\n"
   ]
  },
  {
   "cell_type": "markdown",
   "id": "338690cb-4ccd-4c39-bc87-96d97be0cc96",
   "metadata": {},
   "source": [
    "# Q.22)How can you check if a file is empty before attempting to read its contents?"
   ]
  },
  {
   "cell_type": "code",
   "execution_count": 131,
   "id": "c6bf0bb4-c5d9-41b4-8c68-2cc8029059b0",
   "metadata": {},
   "outputs": [
    {
     "name": "stdout",
     "output_type": "stream",
     "text": [
      "Hello, World!Appended text.\n",
      "\n"
     ]
    }
   ],
   "source": [
    "import os\n",
    "\n",
    "file_path = 'file.txt'\n",
    "\n",
    "if os.path.exists(file_path) and os.path.getsize(file_path) > 0:\n",
    "    with open(file_path, 'r') as file:\n",
    "        print(file.read())\n",
    "else:\n",
    "    print(\"The file is empty or does not exist.\")\n"
   ]
  },
  {
   "cell_type": "markdown",
   "id": "82eb9a3a-4740-4a89-9008-9af4856646d1",
   "metadata": {},
   "source": [
    "# Q.23)Write a Python program that writes to a log file when an error occurs during file handling."
   ]
  },
  {
   "cell_type": "code",
   "execution_count": 139,
   "id": "d29cb14a-e4a4-4347-9abb-81729cd4f94b",
   "metadata": {},
   "outputs": [],
   "source": [
    "import logging\n",
    "\n",
    "logging.basicConfig(filename='error_log.txt', level=logging.ERROR)\n",
    "\n",
    "try:\n",
    "    with open('non_existent_file.txt', 'r') as file:\n",
    "        content = file.read()\n",
    "except Exception as e:\n",
    "    logging.error(f\"An error occurred while handling the file: {e}\")\n"
   ]
  }
 ],
 "metadata": {
  "kernelspec": {
   "display_name": "Python 3 (ipykernel)",
   "language": "python",
   "name": "python3"
  },
  "language_info": {
   "codemirror_mode": {
    "name": "ipython",
    "version": 3
   },
   "file_extension": ".py",
   "mimetype": "text/x-python",
   "name": "python",
   "nbconvert_exporter": "python",
   "pygments_lexer": "ipython3",
   "version": "3.12.7"
  }
 },
 "nbformat": 4,
 "nbformat_minor": 5
}
