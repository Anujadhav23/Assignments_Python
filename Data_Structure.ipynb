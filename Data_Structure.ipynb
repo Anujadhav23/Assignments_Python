{
 "cells": [
  {
   "cell_type": "markdown",
   "id": "cb74c26c-288a-4c58-9f02-2ccf0120bbb9",
   "metadata": {},
   "source": [
    "# ******THEORY QUESTIONS******"
   ]
  },
  {
   "cell_type": "markdown",
   "id": "f4058699-9d60-4f26-9ebf-08b2ef182bf8",
   "metadata": {},
   "source": [
    "# Q.1)What are data structures, and why are they important?\n",
    "Answer:\n",
    "\n",
    "Data structures are organized ways to store, manage, and retrieve data efficiently. In Python, common data structures include lists, tuples, sets, and dictionaries. They are important because they help in optimizing code performance, managing large amounts of data, and implementing algorithms efficiently."
   ]
  },
  {
   "cell_type": "markdown",
   "id": "13425f5c-bfbd-4526-a403-0e824fed584b",
   "metadata": {},
   "source": [
    "# Q.2)  Explain the difference between mutable and immutable data types with examples."
   ]
  },
  {
   "cell_type": "code",
   "execution_count": 35,
   "id": "1f9ece14-fe34-47d1-8973-e6a13841734b",
   "metadata": {},
   "outputs": [],
   "source": [
    "#Mutable data types can be changed after creation. Example: list, dictionary, set.\n",
    "#Example\n",
    "a = [1, 2, 3]\n",
    "a[0] = 10  # List is mutable\n",
    "\n",
    "#Immutable data types cannot be changed after creation. Example: int, float, str, tuple.\n",
    "# Example\n",
    "b = (1, 2, 3)\n",
    "# b[0] = 10 → This will raise an error"
   ]
  },
  {
   "cell_type": "markdown",
   "id": "49c7a60a-75d4-438a-932f-56460fbbe0b4",
   "metadata": {},
   "source": [
    "# Q.3)What are the main differences between lists and tuples in Python?\n",
    "| Feature     | List              | Tuple                 |\n",
    "| ----------- | ----------------- | --------------------- |\n",
    "| Mutability  | Mutable           | Immutable             |\n",
    "| Syntax      | `[]`              | `()`                  |\n",
    "| Performance | Slower            | Faster                |\n",
    "| Use Case    | When data changes | When data is constant |\n"
   ]
  },
  {
   "cell_type": "markdown",
   "id": "0bfc1755-4d2e-453b-9426-5bcb650cff1e",
   "metadata": {},
   "source": [
    "# Q.4)Describe how dictionaries store data.\n",
    "Answer:\n",
    "Dictionaries store data as key-value pairs. Each key is unique and is mapped to a value. Internally, Python uses a hash table to store dictionary keys and allows quick lookup of values."
   ]
  },
  {
   "cell_type": "code",
   "execution_count": 40,
   "id": "ea8341da-6d78-45d2-a7e9-94b9555cdca5",
   "metadata": {},
   "outputs": [],
   "source": [
    "#Example \n",
    "student = {\"name\": \"John\", \"age\": 20}\n"
   ]
  },
  {
   "cell_type": "markdown",
   "id": "c7aaa87a-7b83-437b-8fd9-83de8240f4f5",
   "metadata": {},
   "source": [
    "# Q.5)Why might you use a set instead of a list in Python?\n",
    "Answer:\n",
    "\n",
    "A set is used when you need to store unique elements only and perform fast membership testing. Sets are unordered and do not allow duplicate values, unlike lists."
   ]
  },
  {
   "cell_type": "markdown",
   "id": "568a04e3-cd35-478e-9d3c-904a4a8ae1db",
   "metadata": {},
   "source": [
    "# Q.6)What is a string in Python, and how is it different from a list?\n",
    "Answer:\n",
    "\n",
    "A string is a sequence of characters enclosed in quotes. It is immutable, whereas a list is a collection of elements that can be modified."
   ]
  },
  {
   "cell_type": "code",
   "execution_count": 44,
   "id": "d126587e-b779-40e1-8d74-52429d10ac5e",
   "metadata": {},
   "outputs": [],
   "source": [
    "#Example\n",
    "s = \"hello\"      # Immutable\n",
    "l = ['h', 'e']   # Mutable\n"
   ]
  },
  {
   "cell_type": "markdown",
   "id": "f1bad3eb-edf1-49c5-89b2-14767ca8555f",
   "metadata": {},
   "source": [
    "# Q.7)How do tuples ensure data integrity in Python?\n",
    "Answer:\n",
    "\n",
    "Tuples are immutable, meaning their contents cannot be changed after creation. This ensures that the data remains consistent and secure throughout the program, which is ideal for fixed data."
   ]
  },
  {
   "cell_type": "markdown",
   "id": "9d0e0c57-1380-4ea2-903c-356dc901bfdc",
   "metadata": {},
   "source": [
    "# Q.8)What is a hash table, and how does it relate to dictionaries in Python?\n",
    "Answer:\n",
    "\n",
    "A hash table is a data structure that maps keys to values using a hash function. In Python, dictionaries use hash tables internally to allow fast access, insertion, and deletion of key-value pairs."
   ]
  },
  {
   "cell_type": "markdown",
   "id": "c6150610-bd7c-4668-9068-6cff046687ed",
   "metadata": {},
   "source": [
    "# Q.9)Can lists contain different data types in Python?\n",
    "Answer:\n",
    "\n",
    "Yes, Python lists are heterogeneous. They can contain elements of different data types in a single list."
   ]
  },
  {
   "cell_type": "code",
   "execution_count": 51,
   "id": "28a9b530-c787-4391-9045-eafcc37c6061",
   "metadata": {},
   "outputs": [],
   "source": [
    "#Example\n",
    "my_list = [1, \"hello\", 3.14, True]\n"
   ]
  },
  {
   "cell_type": "markdown",
   "id": "d9b97ddd-9a9f-47a8-ac84-ee5595df3c3c",
   "metadata": {},
   "source": [
    "# Q.10)Explain why strings are immutable in Python?\n",
    "Answer:\n",
    "\n",
    "Strings are immutable to ensure memory efficiency and security. This allows Python to reuse string objects (interning) and avoids unexpected changes when passing strings between functions."
   ]
  },
  {
   "cell_type": "markdown",
   "id": "4e2a7c50-2228-459d-8eea-1777422375f4",
   "metadata": {},
   "source": [
    "# Q.11)What advantages do dictionaries offer over lists for certain tasks?\n",
    "Answer:\n",
    "\n",
    "Dictionaries provide:\n",
    "\n",
    "- Faster lookup using keys (O(1) time)\n",
    "\n",
    "- Better data association (key-value mapping)\n",
    "\n",
    "- Readability when accessing named items"
   ]
  },
  {
   "cell_type": "markdown",
   "id": "2f886666-684e-48e7-884f-429afc1a5d41",
   "metadata": {},
   "source": [
    "# Q.12)Describe a scenario where using a tuple would be preferable over a list.\n",
    "Answer:\n",
    "\n",
    "When you want to store constant data that should not change, like coordinates (x, y) or dates (dd, mm, yyyy), using a tuple is better to ensure the data remains unchanged."
   ]
  },
  {
   "cell_type": "markdown",
   "id": "a3d1b1ab-4377-4a6f-a66e-6a1345ca026d",
   "metadata": {},
   "source": [
    "# Q.13)How do sets handle duplicate values in Python?\n",
    "Answer:\n",
    "\n",
    "Sets automatically remove duplicate values. When you add duplicate elements to a set, only one copy is stored."
   ]
  },
  {
   "cell_type": "code",
   "execution_count": 56,
   "id": "638eaef7-e37a-4a7f-bd7a-e501ece2f051",
   "metadata": {},
   "outputs": [
    {
     "name": "stdout",
     "output_type": "stream",
     "text": [
      "{1, 2, 3}\n"
     ]
    }
   ],
   "source": [
    "#Example\n",
    "s = {1, 2, 2, 3}\n",
    "print(s)  # Output: {1, 2, 3}\n"
   ]
  },
  {
   "cell_type": "markdown",
   "id": "48fd854c-d3cf-4bda-93f5-ec82c3853f63",
   "metadata": {},
   "source": [
    "# Q.14)How does the “in” keyword work differently for lists and dictionaries?\n",
    "Answer:\n",
    "\n",
    "- In lists, in checks for the presence of a value.\n",
    "\n",
    "- In dictionaries, in checks for the presence of a key, not value."
   ]
  },
  {
   "cell_type": "code",
   "execution_count": 62,
   "id": "9f93cf70-c258-42d3-89e4-fc33b91d5383",
   "metadata": {},
   "outputs": [
    {
     "data": {
      "text/plain": [
       "False"
      ]
     },
     "execution_count": 62,
     "metadata": {},
     "output_type": "execute_result"
    }
   ],
   "source": [
    "#Example\n",
    "3 in [1, 2, 3]           # True\n",
    "'name' in {'name': 'Anu'}  # True\n",
    "'Anu' in {'name': 'Anu'}   # False\n"
   ]
  },
  {
   "cell_type": "markdown",
   "id": "1cc2328a-5ba5-447f-9f04-48a573f46b07",
   "metadata": {},
   "source": [
    "# Q.15)Can you modify the elements of a tuple? Explain why or why not.\n",
    "Answer:\n",
    "\n",
    "No, you cannot modify elements of a tuple because it is immutable. This means once created, the contents of a tuple cannot be changed."
   ]
  },
  {
   "cell_type": "markdown",
   "id": "d844b8c8-c2dc-4dfe-adf8-42b58704b19c",
   "metadata": {},
   "source": [
    "# Q.16) What is a nested dictionary, and give an example of its use case?\n",
    "Answer:\n",
    "\n",
    "A nested dictionary is a dictionary within another dictionary. It is useful for representing hierarchical data, such as student records."
   ]
  },
  {
   "cell_type": "code",
   "execution_count": 78,
   "id": "f97ae2b9-79c0-4556-b227-1b802c8bb9c6",
   "metadata": {},
   "outputs": [],
   "source": [
    "#Example\n",
    "students = {\n",
    "    \"001\": {\"name\": \"Anu\", \"marks\": 90},\n",
    "    \"002\": {\"name\": \"Raj\", \"marks\": 85}\n",
    "}\n"
   ]
  },
  {
   "cell_type": "markdown",
   "id": "f8d301a2-dcb3-4f99-9ec0-6505fbdbef6d",
   "metadata": {},
   "source": [
    "# Q.17) Describe the time complexity of accessing elements in a dictionary.\n",
    "Answer:\n",
    "\n",
    "Accessing elements in a dictionary is on average O(1) (constant time) due to the underlying hash table mechanism."
   ]
  },
  {
   "cell_type": "markdown",
   "id": "7580f374-26e5-4c94-88f8-3a66d6bde6c9",
   "metadata": {},
   "source": [
    "# Q.18) In what situations are lists preferred over dictionaries?\n",
    "Answer:\n",
    "\n",
    "Lists are preferred when:\n",
    "\n",
    "- Order of elements matters\n",
    "\n",
    "- You are working with sequences\n",
    "\n",
    "- You don’t need key-based access"
   ]
  },
  {
   "cell_type": "markdown",
   "id": "3c6c670c-1984-4a60-bb4a-4d94c79b0ad8",
   "metadata": {},
   "source": [
    "# Q.19)Why are dictionaries considered unordered, and how does that affect data retrieval?\n",
    "Answer:\n",
    "\n",
    "Until Python 3.6, dictionaries were unordered. Now they maintain insertion order, but are still primarily used for key-based access, not for position-based indexing."
   ]
  },
  {
   "cell_type": "markdown",
   "id": "ba353321-9a0a-483b-ae3f-b7644eaa3f4d",
   "metadata": {},
   "source": [
    "# Q.20)Explain the difference between a list and a dictionary in terms of data retrieval.\n",
    "Answer:\n",
    "\n",
    "List: Retrieve elements using an index (position-based).\n",
    "\n",
    "- Dictionary: Retrieve elements using a key (label-based).\n",
    "- Lists are suitable for ordered data; dictionaries for associative data."
   ]
  },
  {
   "cell_type": "markdown",
   "id": "70f14670-63f3-40b8-8727-5984ea47c8ae",
   "metadata": {},
   "source": [
    "# ******PRACTICAL QUESTIONS******"
   ]
  },
  {
   "cell_type": "markdown",
   "id": "3f2b2982-379f-4131-afa8-d0e477f947fa",
   "metadata": {},
   "source": [
    "# Q.1) Write a code to create a string with your name and print it."
   ]
  },
  {
   "cell_type": "code",
   "execution_count": 178,
   "id": "36c069d6-60c4-4eb9-a8f6-9aed6bf78cc4",
   "metadata": {},
   "outputs": [
    {
     "name": "stdout",
     "output_type": "stream",
     "text": [
      "Aniket Jadhav\n"
     ]
    }
   ],
   "source": [
    "my_name = \"Aniket Jadhav\"\n",
    "print(my_name)\n"
   ]
  },
  {
   "cell_type": "markdown",
   "id": "b5985211-3345-4fde-8f49-499963710718",
   "metadata": {},
   "source": [
    "# Q.2 Write a code to find the length of the string \"Hello World\"."
   ]
  },
  {
   "cell_type": "code",
   "execution_count": 181,
   "id": "3bdc49ef-066f-4888-a555-30b509d6b8c8",
   "metadata": {},
   "outputs": [
    {
     "name": "stdout",
     "output_type": "stream",
     "text": [
      "11\n"
     ]
    }
   ],
   "source": [
    "text = \"Hello World\"\n",
    "print(len(text))\n"
   ]
  },
  {
   "cell_type": "markdown",
   "id": "43bd856d-a179-4945-a49e-93c93b98def9",
   "metadata": {},
   "source": [
    "# Q.3) Write a code to slice the first 3 characters from the string \"Python Programming\"."
   ]
  },
  {
   "cell_type": "code",
   "execution_count": 184,
   "id": "8f69a276-0daf-462b-be64-ce24aba85df4",
   "metadata": {},
   "outputs": [
    {
     "name": "stdout",
     "output_type": "stream",
     "text": [
      "Pyt\n"
     ]
    }
   ],
   "source": [
    "message = \"Python Programming\"\n",
    "print(message[:3])  # Output: Pyt\n"
   ]
  },
  {
   "cell_type": "markdown",
   "id": "3a596a98-ffbe-429b-b3d9-88e0136fb49d",
   "metadata": {},
   "source": [
    "# Q.4)Write a code to convert the string \"hello\" to uppercase."
   ]
  },
  {
   "cell_type": "code",
   "execution_count": 187,
   "id": "57697ce7-4b2c-4241-b61f-96b0399335b8",
   "metadata": {},
   "outputs": [
    {
     "name": "stdout",
     "output_type": "stream",
     "text": [
      "HELLO\n"
     ]
    }
   ],
   "source": [
    "word = \"hello\"\n",
    "print(word.upper())  # Output: HELLO\n"
   ]
  },
  {
   "cell_type": "markdown",
   "id": "5b4ab304-fe1c-487f-953d-3ee92b41042a",
   "metadata": {},
   "source": [
    "# Q.5)Write a code to replace the word \"apple\" with \"orange\" in the string \"I like apple\"."
   ]
  },
  {
   "cell_type": "code",
   "execution_count": 190,
   "id": "b207f1f6-c990-469d-82fc-48d1c5a8889f",
   "metadata": {},
   "outputs": [
    {
     "name": "stdout",
     "output_type": "stream",
     "text": [
      "I like orange\n"
     ]
    }
   ],
   "source": [
    "sentence = \"I like apple\"\n",
    "new_sentence = sentence.replace(\"apple\", \"orange\")\n",
    "print(new_sentence)  # Output: I like orange\n"
   ]
  },
  {
   "cell_type": "markdown",
   "id": "ad222145-32f4-4027-88c4-4fe347631cfb",
   "metadata": {},
   "source": [
    "# Q.6)Write a code to create a list with numbers 1 to 5 and print it."
   ]
  },
  {
   "cell_type": "code",
   "execution_count": 193,
   "id": "573cf85e-3822-46b9-a3d6-e76973e4db5c",
   "metadata": {},
   "outputs": [
    {
     "name": "stdout",
     "output_type": "stream",
     "text": [
      "[1, 2, 3, 4, 5]\n"
     ]
    }
   ],
   "source": [
    "numbers = [1, 2, 3, 4, 5]\n",
    "print(numbers)\n"
   ]
  },
  {
   "cell_type": "markdown",
   "id": "cfb3a7ff-01cc-48da-878e-12cd68d2c8ae",
   "metadata": {},
   "source": [
    "# Q.7)Write a code to append the number 10 to the list [1, 2, 3, 4]."
   ]
  },
  {
   "cell_type": "code",
   "execution_count": 196,
   "id": "b311d2c0-9d57-43e4-8473-82d15177a634",
   "metadata": {},
   "outputs": [
    {
     "name": "stdout",
     "output_type": "stream",
     "text": [
      "[1, 2, 3, 4, 10]\n"
     ]
    }
   ],
   "source": [
    "num_list = [1, 2, 3, 4]\n",
    "num_list.append(10)\n",
    "print(num_list)  # Output: [1, 2, 3, 4, 10]"
   ]
  },
  {
   "cell_type": "markdown",
   "id": "8faca077-40f9-4f7d-9b38-6180ef140ec0",
   "metadata": {},
   "source": [
    "# Q.8)Write a code to remove the number 3 from the list [1, 2, 3, 4, 5]."
   ]
  },
  {
   "cell_type": "code",
   "execution_count": 199,
   "id": "ed55682d-10da-414d-acc9-ab09434f2236",
   "metadata": {},
   "outputs": [
    {
     "name": "stdout",
     "output_type": "stream",
     "text": [
      "[1, 2, 4, 5]\n"
     ]
    }
   ],
   "source": [
    "my_list = [1, 2, 3, 4, 5]\n",
    "my_list.remove(3)\n",
    "print(my_list)  # Output: [1, 2, 4, 5]\n"
   ]
  },
  {
   "cell_type": "markdown",
   "id": "cc7319cb-8c47-4d38-aa59-019760c1d91e",
   "metadata": {},
   "source": [
    "# Q.9)Write a code to access the second element in the list ['a', 'b', 'c', 'd']."
   ]
  },
  {
   "cell_type": "code",
   "execution_count": 202,
   "id": "7ad7a263-9802-41d1-8fd8-2d70aadace0d",
   "metadata": {},
   "outputs": [
    {
     "name": "stdout",
     "output_type": "stream",
     "text": [
      "b\n"
     ]
    }
   ],
   "source": [
    "letters = ['a', 'b', 'c', 'd']\n",
    "print(letters[1])  # Output: b\n"
   ]
  },
  {
   "cell_type": "markdown",
   "id": "f9d47471-4c19-412e-8c02-5b4cf4a649e9",
   "metadata": {},
   "source": [
    "# Q.10)Write a code to reverse the list [10, 20, 30, 40, 50]."
   ]
  },
  {
   "cell_type": "code",
   "execution_count": 205,
   "id": "9e883b57-20ab-436f-bec4-ff6ab92e6404",
   "metadata": {},
   "outputs": [
    {
     "name": "stdout",
     "output_type": "stream",
     "text": [
      "[50, 40, 30, 20, 10]\n"
     ]
    }
   ],
   "source": [
    "data = [10, 20, 30, 40, 50]\n",
    "print(data[::-1])  # Output: [50, 40, 30, 20, 10]"
   ]
  },
  {
   "cell_type": "markdown",
   "id": "f5156436-339f-4275-a8eb-7a169581b028",
   "metadata": {},
   "source": [
    "# Q.11)Write a code to create a tuple with the elements 100, 200, 300 and print it."
   ]
  },
  {
   "cell_type": "code",
   "execution_count": 207,
   "id": "e962ecae-910f-4969-8739-d8f96dcec213",
   "metadata": {},
   "outputs": [
    {
     "name": "stdout",
     "output_type": "stream",
     "text": [
      "(100, 200, 300)\n"
     ]
    }
   ],
   "source": [
    "my_tuple = (100, 200, 300)\n",
    "print(my_tuple)\n"
   ]
  },
  {
   "cell_type": "markdown",
   "id": "2dc7ecc7-83b8-4c4c-aaba-e88141f982a8",
   "metadata": {},
   "source": [
    "# Q.12)Write a code to access the second-to-last element of the tuple ('red', 'green', 'blue', 'yellow')."
   ]
  },
  {
   "cell_type": "code",
   "execution_count": 211,
   "id": "3d40c9b8-862d-44d7-810b-f2f7d586a82e",
   "metadata": {},
   "outputs": [
    {
     "name": "stdout",
     "output_type": "stream",
     "text": [
      "blue\n"
     ]
    }
   ],
   "source": [
    "colors = ('red', 'green', 'blue', 'yellow')\n",
    "print(colors[-2])  # Output: blue\n"
   ]
  },
  {
   "cell_type": "markdown",
   "id": "ed30a0b6-4167-493b-afff-4b1b9fea6cdb",
   "metadata": {},
   "source": [
    "# Q.13)Write a code to find the minimum number in the tuple (10, 20, 5, 15)."
   ]
  },
  {
   "cell_type": "code",
   "execution_count": 250,
   "id": "c1f6405f-3ad0-43a3-bf22-b5228032f4f9",
   "metadata": {},
   "outputs": [
    {
     "name": "stdout",
     "output_type": "stream",
     "text": [
      "5\n"
     ]
    }
   ],
   "source": [
    "nums = (10, 20, 5, 15)\n",
    "print(min(nums))  # Output: 5\n"
   ]
  },
  {
   "cell_type": "markdown",
   "id": "a58e57e0-cc82-41d6-82b3-a179ddd5bb09",
   "metadata": {},
   "source": [
    "# Q.14)Write a code to find the index of the element \"cat\" in the tuple ('dog', 'cat', 'rabbit')."
   ]
  },
  {
   "cell_type": "code",
   "execution_count": 253,
   "id": "a2684d0e-6f17-4f4c-b046-ea6da1442887",
   "metadata": {},
   "outputs": [
    {
     "name": "stdout",
     "output_type": "stream",
     "text": [
      "1\n"
     ]
    }
   ],
   "source": [
    "animals = ('dog', 'cat', 'rabbit')\n",
    "print(animals.index('cat'))  # Output: 1\n"
   ]
  },
  {
   "cell_type": "markdown",
   "id": "3d776e0d-4a7d-43e3-88d6-7189e632c518",
   "metadata": {},
   "source": [
    "# Q.15)Write a code to create a tuple containing three different fruits and check if \"kiwi\" is in it"
   ]
  },
  {
   "cell_type": "code",
   "execution_count": 256,
   "id": "5c0362bf-9e24-4ffd-ad68-e334fe09f1d1",
   "metadata": {},
   "outputs": [
    {
     "name": "stdout",
     "output_type": "stream",
     "text": [
      "False\n"
     ]
    }
   ],
   "source": [
    "fruits = ('apple', 'banana', 'mango')\n",
    "print(\"kiwi\" in fruits)  # Output: False\n"
   ]
  },
  {
   "cell_type": "markdown",
   "id": "8f053acc-2f1f-4f63-b959-0d05bde34bae",
   "metadata": {},
   "source": [
    "# Q.16)Write a code to create a set with the elements 'a', 'b', 'c' and print it."
   ]
  },
  {
   "cell_type": "code",
   "execution_count": 259,
   "id": "6aa22d1b-bdaa-45ba-959c-b698e523eced",
   "metadata": {},
   "outputs": [
    {
     "name": "stdout",
     "output_type": "stream",
     "text": [
      "{'c', 'b', 'a'}\n"
     ]
    }
   ],
   "source": [
    "my_set = {'a', 'b', 'c'}\n",
    "print(my_set)\n"
   ]
  },
  {
   "cell_type": "markdown",
   "id": "3666bdb6-f730-46a3-8362-1188801078d3",
   "metadata": {},
   "source": [
    "# Q.17) Write a code to clear all elements from the set {1, 2, 3, 4, 5}."
   ]
  },
  {
   "cell_type": "code",
   "execution_count": 262,
   "id": "94401f47-e94f-4bcd-9b28-244e6cfd5ae9",
   "metadata": {},
   "outputs": [
    {
     "name": "stdout",
     "output_type": "stream",
     "text": [
      "set()\n"
     ]
    }
   ],
   "source": [
    "numbers = {1, 2, 3, 4, 5}\n",
    "numbers.clear()\n",
    "print(numbers)  # Output: set()\n"
   ]
  },
  {
   "cell_type": "markdown",
   "id": "f14ab618-f44a-42a7-a80c-c913c8813df9",
   "metadata": {},
   "source": [
    "# Q.18)Write a code to remove the element 4 from the set {1, 2, 3, 4}."
   ]
  },
  {
   "cell_type": "code",
   "execution_count": 265,
   "id": "12ea8c64-d413-41d1-b8c5-6a2e6ebd72ff",
   "metadata": {},
   "outputs": [
    {
     "name": "stdout",
     "output_type": "stream",
     "text": [
      "{1, 2, 3}\n"
     ]
    }
   ],
   "source": [
    "nums = {1, 2, 3, 4}\n",
    "nums.remove(4)\n",
    "print(nums)  # Output: {1, 2, 3}\n"
   ]
  },
  {
   "cell_type": "markdown",
   "id": "ebd4d67a-9fe5-4c0a-8060-bcc38e1394a6",
   "metadata": {},
   "source": [
    "# Q.19)Write a code to find the union of two sets {1, 2, 3} and {3, 4, 5}."
   ]
  },
  {
   "cell_type": "code",
   "execution_count": 268,
   "id": "499aab8b-d22d-48ff-a8b0-eb479609ba75",
   "metadata": {},
   "outputs": [
    {
     "name": "stdout",
     "output_type": "stream",
     "text": [
      "{1, 2, 3, 4, 5}\n"
     ]
    }
   ],
   "source": [
    "a = {1, 2, 3}\n",
    "b = {3, 4, 5}\n",
    "print(a.union(b))  # Output: {1, 2, 3, 4, 5}\n"
   ]
  },
  {
   "cell_type": "markdown",
   "id": "f8816adb-a3c3-4cb6-8a19-8e1044c94a8e",
   "metadata": {},
   "source": [
    "# Q.20)Write a code to find the intersection of two sets {1, 2, 3} and {2, 3, 4}."
   ]
  },
  {
   "cell_type": "code",
   "execution_count": 271,
   "id": "3d7b389b-af70-456c-97bb-82d8426a2fdc",
   "metadata": {},
   "outputs": [
    {
     "name": "stdout",
     "output_type": "stream",
     "text": [
      "{2, 3}\n"
     ]
    }
   ],
   "source": [
    "x = {1, 2, 3}\n",
    "y = {2, 3, 4}\n",
    "print(x.intersection(y))  # Output: {2, 3}\n"
   ]
  },
  {
   "cell_type": "markdown",
   "id": "b8ce936a-687c-498a-b4ce-cbf733e8f862",
   "metadata": {},
   "source": [
    "# Q.21)Write a code to create a dictionary with the keys \"name\", \"age\", and \"city\", and print it."
   ]
  },
  {
   "cell_type": "code",
   "execution_count": 274,
   "id": "bf04c6de-fd90-4ff1-a1d5-2ece47d732ef",
   "metadata": {},
   "outputs": [
    {
     "name": "stdout",
     "output_type": "stream",
     "text": [
      "{'name': 'Aniket', 'age': 22, 'city': 'Mumbai'}\n"
     ]
    }
   ],
   "source": [
    "info = {'name': 'Aniket', 'age': 22, 'city': 'Mumbai'}\n",
    "print(info)\n"
   ]
  },
  {
   "cell_type": "markdown",
   "id": "625d1978-f925-4acf-8c5d-c9e57e12cbaf",
   "metadata": {},
   "source": [
    "# Q.22)Write a code to add a new key-value pair \"country\": \"USA\" to the dictionary {'name': 'John', 'age': 25}."
   ]
  },
  {
   "cell_type": "code",
   "execution_count": 277,
   "id": "796351e7-feef-488b-8b44-97f6143121b4",
   "metadata": {},
   "outputs": [
    {
     "name": "stdout",
     "output_type": "stream",
     "text": [
      "{'name': 'John', 'age': 25, 'country': 'USA'}\n"
     ]
    }
   ],
   "source": [
    "person = {'name': 'John', 'age': 25}\n",
    "person['country'] = 'USA'\n",
    "print(person)\n"
   ]
  },
  {
   "cell_type": "markdown",
   "id": "65cd5b53-dfed-4eec-8475-0673588a7929",
   "metadata": {},
   "source": [
    "# Q.23)Write a code to access the value associated with the key \"name\" in the dictionary {'name': 'Alice', 'age': 30}."
   ]
  },
  {
   "cell_type": "code",
   "execution_count": 280,
   "id": "516d4c08-7bbe-43ca-87b4-92b79659cbf3",
   "metadata": {},
   "outputs": [
    {
     "name": "stdout",
     "output_type": "stream",
     "text": [
      "Alice\n"
     ]
    }
   ],
   "source": [
    "person = {'name': 'Alice', 'age': 30}\n",
    "print(person['name'])  # Output: Alice\n"
   ]
  },
  {
   "cell_type": "markdown",
   "id": "23296094-5c4f-445b-8813-ba20b6dc69b4",
   "metadata": {},
   "source": [
    "# Q.24)Write a code to remove the key \"age\" from the dictionary {'name': 'Bob', 'age': 22, 'city': 'New York'}."
   ]
  },
  {
   "cell_type": "code",
   "execution_count": 283,
   "id": "48488505-74d2-4723-9fda-54d30610cb9c",
   "metadata": {},
   "outputs": [
    {
     "name": "stdout",
     "output_type": "stream",
     "text": [
      "{'name': 'Bob', 'city': 'New York'}\n"
     ]
    }
   ],
   "source": [
    "data = {'name': 'Bob', 'age': 22, 'city': 'New York'}\n",
    "del data['age']\n",
    "print(data)\n"
   ]
  },
  {
   "cell_type": "markdown",
   "id": "7d35c2fe-795f-4226-bd3d-fba61b977934",
   "metadata": {},
   "source": [
    "# Q.25)Write a code to check if the key \"city\" exists in the dictionary {'name': 'Alice', 'city': 'Paris'}."
   ]
  },
  {
   "cell_type": "code",
   "execution_count": 286,
   "id": "93b2454c-bf03-448a-830d-94eff116a8f1",
   "metadata": {},
   "outputs": [
    {
     "name": "stdout",
     "output_type": "stream",
     "text": [
      "True\n"
     ]
    }
   ],
   "source": [
    "d = {'name': 'Alice', 'city': 'Paris'}\n",
    "print('city' in d)  # Output: True\n"
   ]
  },
  {
   "cell_type": "markdown",
   "id": "6cf74042-1004-4fc0-9fca-b91119dda7ca",
   "metadata": {},
   "source": [
    "# Q.26)Write a code to create a list, a tuple, and a dictionary, and print them all."
   ]
  },
  {
   "cell_type": "code",
   "execution_count": 289,
   "id": "6013df90-a2a0-4f68-bf93-17dcf6e675e7",
   "metadata": {},
   "outputs": [
    {
     "name": "stdout",
     "output_type": "stream",
     "text": [
      "[1, 2, 3]\n",
      "(4, 5, 6)\n",
      "{'a': 1, 'b': 2}\n"
     ]
    }
   ],
   "source": [
    "my_list = [1, 2, 3]\n",
    "my_tuple = (4, 5, 6)\n",
    "my_dict = {'a': 1, 'b': 2}\n",
    "print(my_list)\n",
    "print(my_tuple)\n",
    "print(my_dict)\n"
   ]
  },
  {
   "cell_type": "markdown",
   "id": "8a3a7182-125e-4dd4-882c-d99af72b520b",
   "metadata": {},
   "source": [
    "# Q.27)Write a code to create a list of 5 random numbers between 1 and 100, sort it in ascending order, and print the result.(replaced)"
   ]
  },
  {
   "cell_type": "code",
   "execution_count": 292,
   "id": "50aca4d3-ec4b-496f-99cc-5a322c064373",
   "metadata": {},
   "outputs": [
    {
     "name": "stdout",
     "output_type": "stream",
     "text": [
      "[51, 54, 69, 71, 95]\n"
     ]
    }
   ],
   "source": [
    "import random\n",
    "numbers = random.sample(range(1, 101), 5)\n",
    "numbers.sort()\n",
    "print(numbers)\n"
   ]
  },
  {
   "cell_type": "markdown",
   "id": "3061116d-a04e-48f8-977f-4a9d2c0a947b",
   "metadata": {},
   "source": [
    "# Q.28)Write a code to create a list with strings and print the element at the third index."
   ]
  },
  {
   "cell_type": "code",
   "execution_count": 295,
   "id": "ba46f7d0-d559-4fad-8da5-58a996784eb9",
   "metadata": {},
   "outputs": [
    {
     "name": "stdout",
     "output_type": "stream",
     "text": [
      "date\n"
     ]
    }
   ],
   "source": [
    "words = ['apple', 'banana', 'cherry', 'date', 'fig']\n",
    "print(words[3])  # Output: date\n"
   ]
  },
  {
   "cell_type": "markdown",
   "id": "a7323ddd-45aa-4207-82cd-e3bf46f626d5",
   "metadata": {},
   "source": [
    "# Q.29)Write a code to combine two dictionaries into one and print the result."
   ]
  },
  {
   "cell_type": "code",
   "execution_count": 298,
   "id": "764c8d92-5bed-4aab-8d83-867f46e5dab3",
   "metadata": {},
   "outputs": [
    {
     "name": "stdout",
     "output_type": "stream",
     "text": [
      "{'a': 1, 'b': 2, 'c': 3, 'd': 4}\n"
     ]
    }
   ],
   "source": [
    "dict1 = {'a': 1, 'b': 2}\n",
    "dict2 = {'c': 3, 'd': 4}\n",
    "combined = {**dict1, **dict2}\n",
    "print(combined)\n"
   ]
  },
  {
   "cell_type": "markdown",
   "id": "f80b2be4-5a72-4c67-bf80-881140d36d3f",
   "metadata": {},
   "source": [
    "# Q.30)Write a code to convert a list of strings into a set."
   ]
  },
  {
   "cell_type": "code",
   "execution_count": 301,
   "id": "cf85a9c0-dd56-4558-bdf4-3e3421d48f0c",
   "metadata": {},
   "outputs": [
    {
     "name": "stdout",
     "output_type": "stream",
     "text": [
      "{'apple', 'cherry', 'banana'}\n"
     ]
    }
   ],
   "source": [
    "string_list = ['apple', 'banana', 'apple', 'cherry']\n",
    "string_set = set(string_list)\n",
    "print(string_set)  # Output: {'banana', 'cherry', 'apple'}\n"
   ]
  },
  {
   "cell_type": "code",
   "execution_count": null,
   "id": "87a5c504-06cd-4ab3-bf2a-5b913e2aacb1",
   "metadata": {},
   "outputs": [],
   "source": []
  }
 ],
 "metadata": {
  "kernelspec": {
   "display_name": "Python 3 (ipykernel)",
   "language": "python",
   "name": "python3"
  },
  "language_info": {
   "codemirror_mode": {
    "name": "ipython",
    "version": 3
   },
   "file_extension": ".py",
   "mimetype": "text/x-python",
   "name": "python",
   "nbconvert_exporter": "python",
   "pygments_lexer": "ipython3",
   "version": "3.12.7"
  }
 },
 "nbformat": 4,
 "nbformat_minor": 5
}
