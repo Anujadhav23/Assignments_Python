{
 "cells": [
  {
   "cell_type": "markdown",
   "id": "45bdb8e3-ba7a-4f1f-afd1-29ffd97af885",
   "metadata": {},
   "source": [
    "# Restful-API-and-Flask-Assignment"
   ]
  },
  {
   "cell_type": "markdown",
   "id": "a061eb5f-561f-4917-b5a6-678ff2d432ad",
   "metadata": {},
   "source": [
    "# Thoery Questions"
   ]
  },
  {
   "cell_type": "markdown",
   "id": "e1ff53b6-7649-4fd6-9e69-d7a32baa5984",
   "metadata": {},
   "source": [
    "# Q.1) What is a RESTful API?\n",
    "Ans:\n",
    "\n",
    "A RESTful API (Representational State Transfer) is an architectural style for building web services that:\n",
    "\n",
    "- Uses HTTP methods (GET, POST, PUT, DELETE)\n",
    "\n",
    "- Works with resources (like users, posts, etc.) represented in formats like JSON or XML\n",
    "\n",
    "- Is stateless (each request is independent)"
   ]
  },
  {
   "cell_type": "markdown",
   "id": "51a447de-133b-4291-8f7f-08a7f390da46",
   "metadata": {},
   "source": [
    "# Q.2) Explain the concept of API specification.\n",
    "Ans:\n",
    "\n",
    "API specification is a detailed blueprint that describes how your API works.\n",
    "\n",
    "- Defines endpoints, methods, request/response format, status codes\n",
    "\n",
    "- Helps developers understand and use the API\n",
    "\n",
    "- Tools like OpenAPI (Swagger) help document and test APIs"
   ]
  },
  {
   "cell_type": "markdown",
   "id": "91046127-156b-466c-9e3b-a0223efb6d7d",
   "metadata": {},
   "source": [
    "# Q.3) What is Flask, and why is it popular for building APIs?\n",
    "Ans:\n",
    "\n",
    "Flask is a lightweight Python web framework.\n",
    "\n",
    "- Minimal setup needed\n",
    "\n",
    "- Easy routing with @app.route\n",
    "\n",
    "- Great for REST APIs with extensions like Flask-RESTful or Flask-SQLAlchemy"
   ]
  },
  {
   "cell_type": "markdown",
   "id": "27259ea3-f430-41ff-b84b-4852ea3771b5",
   "metadata": {},
   "source": [
    "# Q.4) What is routing in Flask?\n",
    "Ans:\n",
    "\n",
    "Routing in Flask connects a URL path to a Python function."
   ]
  },
  {
   "cell_type": "markdown",
   "id": "b7dfe5d3-3f8e-4ad5-9a23-86560641a2d8",
   "metadata": {},
   "source": [
    "# Q.5) M How do you create a simple Flask application?\n",
    "Ans:\n"
   ]
  },
  {
   "cell_type": "code",
   "execution_count": 99,
   "id": "f693cb7d-e93a-4700-976e-f4f93da623a5",
   "metadata": {},
   "outputs": [
    {
     "data": {
      "text/plain": [
       "'from flask import Flask\\napp = Flask(__name__)\\n\\n@app.route(\\'/\\')\\ndef home():\\n    return \"Hello World\"\\n\\napp.run(debug=True)'"
      ]
     },
     "execution_count": 99,
     "metadata": {},
     "output_type": "execute_result"
    }
   ],
   "source": [
    "# Example\n",
    "'''from flask import Flask\n",
    "app = Flask(__name__)\n",
    "\n",
    "@app.route('/')\n",
    "def home():\n",
    "    return \"Hello World\"\n",
    "\n",
    "app.run(debug=True)'''"
   ]
  },
  {
   "cell_type": "markdown",
   "id": "186b9b04-4410-43ab-a928-dbb4f7ad3a2d",
   "metadata": {},
   "source": [
    "# Q.6) M What are HTTP methods used in RESTful APIs?\n",
    "Ans:\n",
    "\n",
    "- GET – Retrieve data\n",
    "\n",
    "- POST – Create data\n",
    "\n",
    "- PUT – Update data\n",
    "\n",
    "- DELETE – Remove data\n",
    "\n",
    "-PATCH – Partially update data\n",
    "\n"
   ]
  },
  {
   "cell_type": "markdown",
   "id": "0e8fed1b-6929-48b0-b07a-1f90eea4bbfb",
   "metadata": {},
   "source": [
    "# Q.7) What is the purpose of the @app.route() decorator in Flask?\n",
    "Ans:\n",
    "\n",
    "It maps a URL endpoint to a specific function (view)."
   ]
  },
  {
   "cell_type": "code",
   "execution_count": 103,
   "id": "50415623-3949-4287-85a3-199dd5bb32ef",
   "metadata": {},
   "outputs": [
    {
     "data": {
      "text/plain": [
       "'\\n@app.route(\\'/hello\\')\\ndef say_hello():\\n    return \"Hi\"\\n'"
      ]
     },
     "execution_count": 103,
     "metadata": {},
     "output_type": "execute_result"
    }
   ],
   "source": [
    "# Exampke\n",
    "'''\n",
    "@app.route('/hello')\n",
    "def say_hello():\n",
    "    return \"Hi\"\n",
    "'''"
   ]
  },
  {
   "cell_type": "markdown",
   "id": "7ef7fe9f-5383-4a2b-8270-3d4d3f18496d",
   "metadata": {},
   "source": [
    "# Q.8)  What is the difference between GET and POST HTTP methods?\n",
    "Ans:\n",
    "\n",
    "- GET: Fetches data (parameters in URL)\n",
    "\n",
    "- POST: Sends data (in request body)"
   ]
  },
  {
   "cell_type": "markdown",
   "id": "161f0637-8cff-4d24-93f6-8cc75a35bd32",
   "metadata": {},
   "source": [
    "# Q.9) How do you handle errors in Flask APIs?\n",
    "Ans:\n",
    "\n",
    "Use try-except or Flask’s error handlers:"
   ]
  },
  {
   "cell_type": "code",
   "execution_count": 107,
   "id": "7b788b40-8e65-43f2-8edb-5f96b972720c",
   "metadata": {},
   "outputs": [
    {
     "data": {
      "text/plain": [
       "'@app.errorhandler(404)\\ndef not_found(e):\\n    return {\"error\": \"Not Found\"}, 404\\n'"
      ]
     },
     "execution_count": 107,
     "metadata": {},
     "output_type": "execute_result"
    }
   ],
   "source": [
    "#Example\n",
    "'''@app.errorhandler(404)\n",
    "def not_found(e):\n",
    "    return {\"error\": \"Not Found\"}, 404\n",
    "'''"
   ]
  },
  {
   "cell_type": "markdown",
   "id": "44bf48a9-0f13-43ee-85da-9b0788a50903",
   "metadata": {},
   "source": [
    "# Q.10) How do you connect Flask to a SQL database?\n",
    "Ans:\n",
    "\n",
    "Use Flask-SQLAlchemy:"
   ]
  },
  {
   "cell_type": "code",
   "execution_count": 110,
   "id": "2409c7e8-fc40-4a84-9d38-6244242000cf",
   "metadata": {},
   "outputs": [
    {
     "data": {
      "text/plain": [
       "\"from flask_sqlalchemy import SQLAlchemy\\napp.config['SQLALCHEMY_DATABASE_URI'] = 'sqlite:///data.db'\\ndb = SQLAlchemy(app)\\n\""
      ]
     },
     "execution_count": 110,
     "metadata": {},
     "output_type": "execute_result"
    }
   ],
   "source": [
    "#Example\n",
    "'''from flask_sqlalchemy import SQLAlchemy\n",
    "app.config['SQLALCHEMY_DATABASE_URI'] = 'sqlite:///data.db'\n",
    "db = SQLAlchemy(app)\n",
    "'''"
   ]
  },
  {
   "cell_type": "markdown",
   "id": "4075e9f6-987d-4346-acbf-593fa95d111e",
   "metadata": {},
   "source": [
    "# Q.11) What is the role of Flask-SQLAlchemy?\n",
    "Ans:\n",
    "\n",
    "- ORM (Object Relational Mapper)\n",
    "\n",
    "- Makes it easier to interact with databases using Python classes instead of raw SQL\n",
    "\n"
   ]
  },
  {
   "cell_type": "markdown",
   "id": "73f69f74-890a-4f68-a12e-6a1a751292f3",
   "metadata": {},
   "source": [
    "# Q.12) What are Flask blueprints, and how are they useful?\n",
    "Ans:\n",
    "\n",
    "- Modular structure for large apps\n",
    "\n",
    "- Group routes and views\n"
   ]
  },
  {
   "cell_type": "code",
   "execution_count": 114,
   "id": "3b6243ed-0e8f-4f21-8044-9ae3e77c9a72",
   "metadata": {},
   "outputs": [
    {
     "data": {
      "text/plain": [
       "\"from flask import Blueprint\\napi = Blueprint('api', __name__)\\n\""
      ]
     },
     "execution_count": 114,
     "metadata": {},
     "output_type": "execute_result"
    }
   ],
   "source": [
    "#Example\n",
    "'''from flask import Blueprint\n",
    "api = Blueprint('api', __name__)\n",
    "'''"
   ]
  },
  {
   "cell_type": "markdown",
   "id": "584ddbb3-7d4f-4670-a575-ecfd6564a5fc",
   "metadata": {},
   "source": [
    "# Q.13) What is the purpose of Flask's request object?\n",
    "Ans:\n",
    "\n",
    "- Access request data like JSON, form data, headers"
   ]
  },
  {
   "cell_type": "code",
   "execution_count": 117,
   "id": "7ef99bdd-8c22-4900-9a26-f896039d3e64",
   "metadata": {},
   "outputs": [
    {
     "data": {
      "text/plain": [
       "'from flask import request\\ndata = request.json\\n'"
      ]
     },
     "execution_count": 117,
     "metadata": {},
     "output_type": "execute_result"
    }
   ],
   "source": [
    "#Example\n",
    "'''from flask import request\n",
    "data = request.json\n",
    "'''"
   ]
  },
  {
   "cell_type": "markdown",
   "id": "520cbab5-c9e7-4a48-823b-ccc79bf07830",
   "metadata": {},
   "source": [
    "# Q.14)  How do you create a RESTful API endpoint using Flask?\n",
    "Ans:\n"
   ]
  },
  {
   "cell_type": "code",
   "execution_count": 120,
   "id": "d9220f57-a201-4021-afd5-a375b1b40a4c",
   "metadata": {},
   "outputs": [
    {
     "data": {
      "text/plain": [
       "\"@app.route('/student/<int:id>', methods=['GET'])\\ndef get_student(id):\\n    return jsonify(students[id])\\n\""
      ]
     },
     "execution_count": 120,
     "metadata": {},
     "output_type": "execute_result"
    }
   ],
   "source": [
    "#Example\n",
    "'''@app.route('/student/<int:id>', methods=['GET'])\n",
    "def get_student(id):\n",
    "    return jsonify(students[id])\n",
    "'''"
   ]
  },
  {
   "cell_type": "markdown",
   "id": "ff1f4e83-db86-4fbb-8281-d5532907c153",
   "metadata": {},
   "source": [
    "# Q.15) What is the purpose of Flask's jsonify() function?\n",
    "Ans:\n",
    "\n",
    "Converts Python dict/list to JSON response\n",
    "\n",
    "Sets correct MIME type (application/json)"
   ]
  },
  {
   "cell_type": "markdown",
   "id": "689d099b-55cd-4b48-ac12-f01512202a92",
   "metadata": {},
   "source": [
    "# Q.16) Explain Flask’s url_for() function.\n",
    "Ans:\n",
    "\n",
    "Generates a URL from the function name:"
   ]
  },
  {
   "cell_type": "code",
   "execution_count": 124,
   "id": "c337a756-0a5e-4fb0-bb90-cd492ec66760",
   "metadata": {},
   "outputs": [
    {
     "data": {
      "text/plain": [
       "'url_for(\\'home\\')  # Returns \"/\"'"
      ]
     },
     "execution_count": 124,
     "metadata": {},
     "output_type": "execute_result"
    }
   ],
   "source": [
    "#Example\n",
    "'''url_for('home')  # Returns \"/\"'''\n"
   ]
  },
  {
   "cell_type": "markdown",
   "id": "8b7d8308-fdb3-404d-9ef9-de5873674fc4",
   "metadata": {},
   "source": [
    "# Q.17) How does Flask handle static files (CSS, JavaScript, etc.)?\n",
    "Ans:\n",
    "\n",
    "Flask auto-serves from a folder called /static:"
   ]
  },
  {
   "cell_type": "code",
   "execution_count": 127,
   "id": "f1863c63-11ef-4a6e-a742-21a8b325a93b",
   "metadata": {},
   "outputs": [
    {
     "data": {
      "text/plain": [
       "'<link rel=\"stylesheet\" href=\"{{ url_for(\\'static\\', filename=\\'style.css\\') }}\">\\n'"
      ]
     },
     "execution_count": 127,
     "metadata": {},
     "output_type": "execute_result"
    }
   ],
   "source": [
    "#Example\n",
    "'''<link rel=\"stylesheet\" href=\"{{ url_for('static', filename='style.css') }}\">\n",
    "'''"
   ]
  },
  {
   "cell_type": "markdown",
   "id": "be8a3fcb-7332-45b0-8a15-77a5aa604ea3",
   "metadata": {},
   "source": [
    "# Q.18)  What is an API specification, and how does it help in building a Flask API?\n",
    "Ans:\n",
    "\n",
    "Helps document and standardize your API so:\n",
    "\n",
    "- Developers know how to use it\n",
    "\n",
    "- You can test and update APIs more easily (Swagger helps here)"
   ]
  },
  {
   "cell_type": "markdown",
   "id": "b16be9d3-6d9d-4ba9-a23b-008dd0479c2c",
   "metadata": {},
   "source": [
    "# Q.19) What are HTTP status codes, and why are they important in a Flask API?\n",
    "Ans:\n",
    "\n",
    "Codes like:\n",
    "\n",
    "- 200 OK – Success\n",
    "\n",
    "- 201 Created – Resource created\n",
    "\n",
    "- 404 Not Found – Resource missing\n",
    "\n",
    "- 500 Internal Server Error – Server crashed\n",
    "They help the client understand the response status."
   ]
  },
  {
   "cell_type": "markdown",
   "id": "964ad72f-f1c3-4d14-a925-52729397bdda",
   "metadata": {},
   "source": [
    "# Q.20)  How do you handle POST requests in Flask?\n",
    "Ans:"
   ]
  },
  {
   "cell_type": "code",
   "execution_count": 132,
   "id": "fcfa2bf9-db59-4b14-af60-1441b0428702",
   "metadata": {},
   "outputs": [
    {
     "data": {
      "text/plain": [
       "\"@app.route('/add', methods=['POST'])\\ndef add():\\n    data = request.json\\n    return jsonify(data)\\n\""
      ]
     },
     "execution_count": 132,
     "metadata": {},
     "output_type": "execute_result"
    }
   ],
   "source": [
    "#Example:\n",
    "'''@app.route('/add', methods=['POST'])\n",
    "def add():\n",
    "    data = request.json\n",
    "    return jsonify(data)\n",
    "'''"
   ]
  },
  {
   "cell_type": "markdown",
   "id": "31994490-e774-4104-a3cc-4c4dc58222e0",
   "metadata": {},
   "source": [
    "# Q.21)  How would you secure a Flask API?\n",
    "Ans:\n",
    "\n",
    "- Use Authentication/Authorization (Token-based, JWT)\n",
    "\n",
    "- Validate inputs (avoid SQL injection)\n",
    "\n",
    "- Use HTTPS\n",
    "\n",
    "- Rate limiting\n",
    "\n",
    "- CORS control"
   ]
  },
  {
   "cell_type": "markdown",
   "id": "a79d15aa-8149-4c04-874f-aa95bf219d9a",
   "metadata": {},
   "source": [
    "# Q.22) What is the significance of the Flask-RESTful extension?\n",
    "Ans:\n",
    "\n",
    "Flask-RESTful simplifies API building by using Resource classes and better structure."
   ]
  },
  {
   "cell_type": "code",
   "execution_count": 136,
   "id": "1fdd3f22-9ff0-4bb1-b67a-f46a543453d0",
   "metadata": {},
   "outputs": [
    {
     "data": {
      "text/plain": [
       "'from flask_restful import Resource\\nclass Student(Resource):\\n    def get(self):\\n        return {\"name\": \"Aniket\"}\\n'"
      ]
     },
     "execution_count": 136,
     "metadata": {},
     "output_type": "execute_result"
    }
   ],
   "source": [
    "#Examplr\n",
    "'''from flask_restful import Resource\n",
    "class Student(Resource):\n",
    "    def get(self):\n",
    "        return {\"name\": \"Aniket\"}\n",
    "'''"
   ]
  },
  {
   "cell_type": "markdown",
   "id": "db2a0f99-8f25-407e-b286-a77fb724cb3d",
   "metadata": {},
   "source": [
    "# Q.23) What is the role of Flask’s session object?\n",
    "Ans:\n",
    "\n",
    "Stores user-specific data (like login state) across requests. Data is stored securely on the client side using signed cookies."
   ]
  },
  {
   "cell_type": "code",
   "execution_count": 139,
   "id": "256de9e3-43f5-4df1-ac1c-7057695d67b2",
   "metadata": {},
   "outputs": [
    {
     "data": {
      "text/plain": [
       "\"from flask import session\\nsession['username'] = 'aniket'\\n\""
      ]
     },
     "execution_count": 139,
     "metadata": {},
     "output_type": "execute_result"
    }
   ],
   "source": [
    "#Example\n",
    "'''from flask import session\n",
    "session['username'] = 'aniket'\n",
    "'''"
   ]
  },
  {
   "cell_type": "markdown",
   "id": "fe313a02-ba26-46a0-8557-55e26942d8d6",
   "metadata": {},
   "source": [
    "# Practical Questions"
   ]
  },
  {
   "cell_type": "markdown",
   "id": "b81312a7-4506-408f-85bc-97a7178e4481",
   "metadata": {},
   "source": [
    "# Q.1) How do you create a basic Flask application?"
   ]
  },
  {
   "cell_type": "code",
   "execution_count": 142,
   "id": "fd08fec1-e4c7-49d0-9626-ec838e1c2827",
   "metadata": {},
   "outputs": [
    {
     "data": {
      "text/plain": [
       "\"from flask import Flask\\napp = Flask(__name__)\\n\\n@app.route('/')\\ndef home():\\n    return 'Hello, Flask!'\\n\\nif __name__ == '__main__':\\n    app.run(debug=True)\\n\""
      ]
     },
     "execution_count": 142,
     "metadata": {},
     "output_type": "execute_result"
    }
   ],
   "source": [
    "# Answer\n",
    "'''from flask import Flask\n",
    "app = Flask(__name__)\n",
    "\n",
    "@app.route('/')\n",
    "def home():\n",
    "    return 'Hello, Flask!'\n",
    "\n",
    "if __name__ == '__main__':\n",
    "    app.run(debug=True)\n",
    "'''"
   ]
  },
  {
   "cell_type": "markdown",
   "id": "dad0a17e-bf13-4166-9d23-c6175fbc3e79",
   "metadata": {},
   "source": [
    "# Q.2) How do you serve static files like images or CSS in Flask?"
   ]
  },
  {
   "cell_type": "code",
   "execution_count": 145,
   "id": "67c98326-f99a-459f-97a7-e8f7d48a045c",
   "metadata": {},
   "outputs": [
    {
     "data": {
      "text/plain": [
       "'<link rel=\"stylesheet\" href=\"{{ url_for(\\'static\\', filename=\\'style.css\\') }}\">\\n<img src=\"{{ url_for(\\'static\\', filename=\\'logo.png\\') }}\">\\n'"
      ]
     },
     "execution_count": 145,
     "metadata": {},
     "output_type": "execute_result"
    }
   ],
   "source": [
    "#Answer\n",
    "'''<link rel=\"stylesheet\" href=\"{{ url_for('static', filename='style.css') }}\">\n",
    "<img src=\"{{ url_for('static', filename='logo.png') }}\">\n",
    "'''"
   ]
  },
  {
   "cell_type": "markdown",
   "id": "540b3d9b-8d31-4720-83aa-ed689b799ec1",
   "metadata": {},
   "source": [
    "# Q.3)  How do you define different routes with different HTTP methods in Flask?"
   ]
  },
  {
   "cell_type": "code",
   "execution_count": 148,
   "id": "2c4f507b-0b6a-4f6e-a37b-ff01e2e3cc06",
   "metadata": {},
   "outputs": [
    {
     "data": {
      "text/plain": [
       "\"@app.route('/submit', methods=['GET', 'POST'])\\ndef submit():\\n    if request.method == 'POST':\\n        return 'Form submitted!'\\n    return 'Submit form here.'\\n\""
      ]
     },
     "execution_count": 148,
     "metadata": {},
     "output_type": "execute_result"
    }
   ],
   "source": [
    "#Example\n",
    "'''@app.route('/submit', methods=['GET', 'POST'])\n",
    "def submit():\n",
    "    if request.method == 'POST':\n",
    "        return 'Form submitted!'\n",
    "    return 'Submit form here.'\n",
    "'''"
   ]
  },
  {
   "cell_type": "markdown",
   "id": "16ad91ef-e9e2-469b-99c0-fda0aeed0f60",
   "metadata": {},
   "source": [
    "# Q.4) How do you render HTML templates in Flask?"
   ]
  },
  {
   "cell_type": "code",
   "execution_count": 151,
   "id": "cfa56342-86b7-4b1e-9b28-99b93dc4660a",
   "metadata": {},
   "outputs": [
    {
     "data": {
      "text/plain": [
       "'from flask import render_template\\n\\n@app.route(\\'/\\')\\ndef home():\\n    return render_template(\\'index.html\\', name=\"Aniket\")\\n'"
      ]
     },
     "execution_count": 151,
     "metadata": {},
     "output_type": "execute_result"
    }
   ],
   "source": [
    "#Answer\n",
    "'''from flask import render_template\n",
    "\n",
    "@app.route('/')\n",
    "def home():\n",
    "    return render_template('index.html', name=\"Aniket\")\n",
    "'''"
   ]
  },
  {
   "cell_type": "code",
   "execution_count": 153,
   "id": "5d4c1a49-8cfa-4387-86bb-6c833605e408",
   "metadata": {},
   "outputs": [
    {
     "data": {
      "text/plain": [
       "'<h1>Hello, {{ name }}!</h1>'"
      ]
     },
     "execution_count": 153,
     "metadata": {},
     "output_type": "execute_result"
    }
   ],
   "source": [
    "#index.html\n",
    "'''<h1>Hello, {{ name }}!</h1>'''\n"
   ]
  },
  {
   "cell_type": "markdown",
   "id": "14d7618a-23de-4aaa-9afc-adf423900599",
   "metadata": {},
   "source": [
    "# Q.5)  How can you generate URLs for routes in Flask using url_for?"
   ]
  },
  {
   "cell_type": "code",
   "execution_count": 156,
   "id": "b3bcf264-4839-41c8-976f-f98938ef65ed",
   "metadata": {},
   "outputs": [
    {
     "data": {
      "text/plain": [
       "\"@app.route('/profile/<username>')\\ndef profile(username):\\n    return f'Profile: {username}'\\n\\n# somewhere else\\nurl_for('profile', username='aniket')\\n\""
      ]
     },
     "execution_count": 156,
     "metadata": {},
     "output_type": "execute_result"
    }
   ],
   "source": [
    "#Answer\n",
    "'''@app.route('/profile/<username>')\n",
    "def profile(username):\n",
    "    return f'Profile: {username}'\n",
    "\n",
    "# somewhere else\n",
    "url_for('profile', username='aniket')\n",
    "'''"
   ]
  },
  {
   "cell_type": "markdown",
   "id": "3c46b726-c478-428e-b47e-0782119e7530",
   "metadata": {},
   "source": [
    "# Q.6)  How do you handle forms in Flask?"
   ]
  },
  {
   "cell_type": "code",
   "execution_count": 159,
   "id": "5440e661-d483-475c-8551-8e9537b0a23c",
   "metadata": {},
   "outputs": [
    {
     "data": {
      "text/plain": [
       "\"@app.route('/login', methods=['GET', 'POST'])\\ndef login():\\n    if request.method == 'POST':\\n        username = request.form['username']\\n        return f'Welcome {username}'\\n    return render_template('login.html')\\n\""
      ]
     },
     "execution_count": 159,
     "metadata": {},
     "output_type": "execute_result"
    }
   ],
   "source": [
    "#Answer\n",
    "'''@app.route('/login', methods=['GET', 'POST'])\n",
    "def login():\n",
    "    if request.method == 'POST':\n",
    "        username = request.form['username']\n",
    "        return f'Welcome {username}'\n",
    "    return render_template('login.html')\n",
    "'''"
   ]
  },
  {
   "cell_type": "code",
   "execution_count": 161,
   "id": "76c1edfc-2d7c-4d09-96fc-e662b08f6af7",
   "metadata": {},
   "outputs": [
    {
     "data": {
      "text/plain": [
       "'<form method=\"POST\">\\n    <input name=\"username\">\\n    <input type=\"submit\">\\n</form>\\n'"
      ]
     },
     "execution_count": 161,
     "metadata": {},
     "output_type": "execute_result"
    }
   ],
   "source": [
    "#logic.html\n",
    "'''<form method=\"POST\">\n",
    "    <input name=\"username\">\n",
    "    <input type=\"submit\">\n",
    "</form>\n",
    "'''"
   ]
  },
  {
   "cell_type": "markdown",
   "id": "13b72415-5996-427b-a80f-c8dc9bc5dbcc",
   "metadata": {},
   "source": [
    "# Q.7)  How can you validate form data in Flask?"
   ]
  },
  {
   "cell_type": "code",
   "execution_count": 164,
   "id": "f57ff4ac-a8e4-4d8f-abde-d9b35966ce93",
   "metadata": {},
   "outputs": [
    {
     "data": {
      "text/plain": [
       "\"if not request.form['username']:\\n    return 'Username required!'\\n\""
      ]
     },
     "execution_count": 164,
     "metadata": {},
     "output_type": "execute_result"
    }
   ],
   "source": [
    "#Answer\n",
    "'''if not request.form['username']:\n",
    "    return 'Username required!'\n",
    "'''"
   ]
  },
  {
   "cell_type": "markdown",
   "id": "8d6f57fe-e7f2-489b-aecd-bdf6a6d8fbc2",
   "metadata": {},
   "source": [
    "# Q.8) How do you manage sessions in Flask?"
   ]
  },
  {
   "cell_type": "code",
   "execution_count": 167,
   "id": "c3db3ffa-4d46-488a-91b8-53b0a4d3c9d9",
   "metadata": {},
   "outputs": [
    {
     "data": {
      "text/plain": [
       "\"from flask import session\\n\\napp.secret_key = 'secret123'  # required\\n\\n@app.route('/set/')\\ndef set_session():\\n    session['user'] = 'aniket'\\n    return 'Session set!'\\n\\n@app.route('/get/')\\ndef get_session():\\n    return session.get('user', 'No session found')\\n\""
      ]
     },
     "execution_count": 167,
     "metadata": {},
     "output_type": "execute_result"
    }
   ],
   "source": [
    "#Answer\n",
    "'''from flask import session\n",
    "\n",
    "app.secret_key = 'secret123'  # required\n",
    "\n",
    "@app.route('/set/')\n",
    "def set_session():\n",
    "    session['user'] = 'aniket'\n",
    "    return 'Session set!'\n",
    "\n",
    "@app.route('/get/')\n",
    "def get_session():\n",
    "    return session.get('user', 'No session found')\n",
    "'''"
   ]
  },
  {
   "cell_type": "markdown",
   "id": "214950fd-47dc-43e2-b2e2-cfdcde7ad10d",
   "metadata": {},
   "source": [
    "# Q.9) How do you redirect to a different route in Flask?"
   ]
  },
  {
   "cell_type": "code",
   "execution_count": 170,
   "id": "6bf53d47-8bbd-4ff6-9c47-19d478578c59",
   "metadata": {},
   "outputs": [
    {
     "data": {
      "text/plain": [
       "\"from flask import redirect, url_for\\n\\n@app.route('/')\\ndef home():\\n    return redirect(url_for('dashboard'))\\n\\n@app.route('/dashboard')\\ndef dashboard():\\n    return 'Welcome to Dashboard'\\n\""
      ]
     },
     "execution_count": 170,
     "metadata": {},
     "output_type": "execute_result"
    }
   ],
   "source": [
    "#Answer\n",
    "'''from flask import redirect, url_for\n",
    "\n",
    "@app.route('/')\n",
    "def home():\n",
    "    return redirect(url_for('dashboard'))\n",
    "\n",
    "@app.route('/dashboard')\n",
    "def dashboard():\n",
    "    return 'Welcome to Dashboard'\n",
    "'''"
   ]
  },
  {
   "cell_type": "markdown",
   "id": "c9d23950-f1f2-4c59-88a4-8511b62cb226",
   "metadata": {},
   "source": [
    "# Q.10) How do you handle errors in Flask (e.g., 404)?"
   ]
  },
  {
   "cell_type": "code",
   "execution_count": 173,
   "id": "25337b78-7235-4369-9b80-299a6ebb139e",
   "metadata": {},
   "outputs": [
    {
     "data": {
      "text/plain": [
       "\"@app.errorhandler(404)\\ndef not_found(e):\\n    return render_template('404.html'), 404\\n\""
      ]
     },
     "execution_count": 173,
     "metadata": {},
     "output_type": "execute_result"
    }
   ],
   "source": [
    "#Answer\n",
    "'''@app.errorhandler(404)\n",
    "def not_found(e):\n",
    "    return render_template('404.html'), 404\n",
    "'''"
   ]
  },
  {
   "cell_type": "markdown",
   "id": "be3af726-92e4-4cd2-bea6-0fe8557212cf",
   "metadata": {},
   "source": [
    "# Q.11)  How do you structure a Flask app using Blueprints?"
   ]
  },
  {
   "cell_type": "code",
   "execution_count": 176,
   "id": "6643d25f-c2a2-49ae-8bf9-2145683226a5",
   "metadata": {},
   "outputs": [
    {
     "data": {
      "text/plain": [
       "\"# user_routes.py\\nfrom flask import Blueprint\\nuser_bp = Blueprint('user', __name__)\\n\\n@user_bp.route('/profile')\\ndef profile():\\n    return 'User Profile'\\n\\n# main app\\nfrom user_routes import user_bp\\napp.register_blueprint(user_bp, url_prefix='/user')\\n\""
      ]
     },
     "execution_count": 176,
     "metadata": {},
     "output_type": "execute_result"
    }
   ],
   "source": [
    "#Answer\n",
    "'''# user_routes.py\n",
    "from flask import Blueprint\n",
    "user_bp = Blueprint('user', __name__)\n",
    "\n",
    "@user_bp.route('/profile')\n",
    "def profile():\n",
    "    return 'User Profile'\n",
    "\n",
    "# main app\n",
    "from user_routes import user_bp\n",
    "app.register_blueprint(user_bp, url_prefix='/user')\n",
    "'''"
   ]
  },
  {
   "cell_type": "markdown",
   "id": "25c28306-d6c6-454c-a8d2-c1a27e487eb2",
   "metadata": {},
   "source": [
    "# Q.12) How do you define a custom Jinja filter in Flask?"
   ]
  },
  {
   "cell_type": "code",
   "execution_count": 179,
   "id": "d6cd2e05-b433-4c0e-82b9-18f06d1ac274",
   "metadata": {},
   "outputs": [
    {
     "data": {
      "text/plain": [
       "\"@app.template_filter('capitalize')\\ndef capitalize_filter(text):\\n    return text.capitalize()\\n\\n# usage in HTML:\\n{{ 'flask' | capitalize }}\\n\""
      ]
     },
     "execution_count": 179,
     "metadata": {},
     "output_type": "execute_result"
    }
   ],
   "source": [
    "#Answer\n",
    "'''@app.template_filter('capitalize')\n",
    "def capitalize_filter(text):\n",
    "    return text.capitalize()\n",
    "\n",
    "# usage in HTML:\n",
    "{{ 'flask' | capitalize }}\n",
    "'''"
   ]
  },
  {
   "cell_type": "markdown",
   "id": "2cf8acf2-90a4-428c-9256-da4d52b98bb5",
   "metadata": {},
   "source": [
    "# Q.13) How can you redirect with query parameters in Flask?"
   ]
  },
  {
   "cell_type": "code",
   "execution_count": 182,
   "id": "d9730546-eae9-482c-b24b-1e384b880e6d",
   "metadata": {},
   "outputs": [
    {
     "data": {
      "text/plain": [
       "\"return redirect(url_for('search', q='flask'))\\n\\n@app.route('/search')\\ndef search():\\n    query = request.args.get('q')\\n    return f'Searching for {query}'\\n\""
      ]
     },
     "execution_count": 182,
     "metadata": {},
     "output_type": "execute_result"
    }
   ],
   "source": [
    "#Answer\n",
    "'''return redirect(url_for('search', q='flask'))\n",
    "\n",
    "@app.route('/search')\n",
    "def search():\n",
    "    query = request.args.get('q')\n",
    "    return f'Searching for {query}'\n",
    "'''"
   ]
  },
  {
   "cell_type": "markdown",
   "id": "aa794f44-44b6-482c-8a54-04356edd4e64",
   "metadata": {},
   "source": [
    "# Q.14) How do you return JSON responses in Flask?"
   ]
  },
  {
   "cell_type": "code",
   "execution_count": 185,
   "id": "b7a448ba-a982-49ed-90d6-328506f1fa29",
   "metadata": {},
   "outputs": [
    {
     "data": {
      "text/plain": [
       "'from flask import jsonify\\n\\n@app.route(\\'/api\\')\\ndef api():\\n    return jsonify({\"name\": \"Aniket\", \"age\": 21})\\n'"
      ]
     },
     "execution_count": 185,
     "metadata": {},
     "output_type": "execute_result"
    }
   ],
   "source": [
    "#Answer\n",
    "'''from flask import jsonify\n",
    "\n",
    "@app.route('/api')\n",
    "def api():\n",
    "    return jsonify({\"name\": \"Aniket\", \"age\": 21})\n",
    "'''"
   ]
  },
  {
   "cell_type": "markdown",
   "id": "9e2df7bf-bec5-4936-a8fd-ca6a96e4e8c1",
   "metadata": {},
   "source": [
    "# Q.15) How do you capture URL parameters in Flask?"
   ]
  },
  {
   "cell_type": "code",
   "execution_count": 188,
   "id": "9d78995e-1ca6-4765-acd4-f7937ee3aa98",
   "metadata": {},
   "outputs": [
    {
     "data": {
      "text/plain": [
       "\"@app.route('/user/<username>')\\ndef user_profile(username):\\n    return f'Hello, {username}'\\n\""
      ]
     },
     "execution_count": 188,
     "metadata": {},
     "output_type": "execute_result"
    }
   ],
   "source": [
    "#Answer\n",
    "'''@app.route('/user/<username>')\n",
    "def user_profile(username):\n",
    "    return f'Hello, {username}'\n",
    "'''"
   ]
  }
 ],
 "metadata": {
  "kernelspec": {
   "display_name": "Python 3 (ipykernel)",
   "language": "python",
   "name": "python3"
  },
  "language_info": {
   "codemirror_mode": {
    "name": "ipython",
    "version": 3
   },
   "file_extension": ".py",
   "mimetype": "text/x-python",
   "name": "python",
   "nbconvert_exporter": "python",
   "pygments_lexer": "ipython3",
   "version": "3.12.7"
  }
 },
 "nbformat": 4,
 "nbformat_minor": 5
}
